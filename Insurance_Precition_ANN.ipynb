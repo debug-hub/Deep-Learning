{
  "nbformat": 4,
  "nbformat_minor": 0,
  "metadata": {
    "colab": {
      "name": "Insurance Precition ANN.ipynb",
      "provenance": []
    },
    "kernelspec": {
      "name": "python3",
      "display_name": "Python 3"
    },
    "language_info": {
      "name": "python"
    }
  },
  "cells": [
    {
      "cell_type": "code",
      "metadata": {
        "id": "3ERbfE_SnFBb"
      },
      "source": [
        "import numpy as np\n",
        "import pandas as pd\n",
        "import matplotlib.pyplot as plt\n",
        "import seaborn as sns"
      ],
      "execution_count": null,
      "outputs": []
    },
    {
      "cell_type": "code",
      "metadata": {
        "id": "tIVd99KynFyr"
      },
      "source": [
        "import tensorflow as tf\n",
        "from tensorflow.keras.models import Sequential\n",
        "from tensorflow.keras.layers import Dense"
      ],
      "execution_count": null,
      "outputs": []
    },
    {
      "cell_type": "code",
      "metadata": {
        "id": "OWe_3Zp7nIA2"
      },
      "source": [
        "df=pd.read_csv('/content/insurance_Claim(CSV).csv')"
      ],
      "execution_count": null,
      "outputs": []
    },
    {
      "cell_type": "code",
      "metadata": {
        "colab": {
          "base_uri": "https://localhost:8080/",
          "height": 205
        },
        "id": "mFvRpYxDnQ8W",
        "outputId": "1cfbee46-321a-49e6-87fe-90795a6b963f"
      },
      "source": [
        "df.head()"
      ],
      "execution_count": null,
      "outputs": [
        {
          "output_type": "execute_result",
          "data": {
            "text/html": [
              "<div>\n",
              "<style scoped>\n",
              "    .dataframe tbody tr th:only-of-type {\n",
              "        vertical-align: middle;\n",
              "    }\n",
              "\n",
              "    .dataframe tbody tr th {\n",
              "        vertical-align: top;\n",
              "    }\n",
              "\n",
              "    .dataframe thead th {\n",
              "        text-align: right;\n",
              "    }\n",
              "</style>\n",
              "<table border=\"1\" class=\"dataframe\">\n",
              "  <thead>\n",
              "    <tr style=\"text-align: right;\">\n",
              "      <th></th>\n",
              "      <th>age</th>\n",
              "      <th>sex</th>\n",
              "      <th>bmi</th>\n",
              "      <th>children</th>\n",
              "      <th>smoker</th>\n",
              "      <th>region</th>\n",
              "      <th>charges</th>\n",
              "    </tr>\n",
              "  </thead>\n",
              "  <tbody>\n",
              "    <tr>\n",
              "      <th>0</th>\n",
              "      <td>19</td>\n",
              "      <td>female</td>\n",
              "      <td>27.900</td>\n",
              "      <td>0</td>\n",
              "      <td>yes</td>\n",
              "      <td>southwest</td>\n",
              "      <td>16884.92400</td>\n",
              "    </tr>\n",
              "    <tr>\n",
              "      <th>1</th>\n",
              "      <td>18</td>\n",
              "      <td>male</td>\n",
              "      <td>33.770</td>\n",
              "      <td>1</td>\n",
              "      <td>no</td>\n",
              "      <td>southeast</td>\n",
              "      <td>1725.55230</td>\n",
              "    </tr>\n",
              "    <tr>\n",
              "      <th>2</th>\n",
              "      <td>28</td>\n",
              "      <td>male</td>\n",
              "      <td>33.000</td>\n",
              "      <td>3</td>\n",
              "      <td>no</td>\n",
              "      <td>southeast</td>\n",
              "      <td>4449.46200</td>\n",
              "    </tr>\n",
              "    <tr>\n",
              "      <th>3</th>\n",
              "      <td>33</td>\n",
              "      <td>male</td>\n",
              "      <td>22.705</td>\n",
              "      <td>0</td>\n",
              "      <td>no</td>\n",
              "      <td>northwest</td>\n",
              "      <td>21984.47061</td>\n",
              "    </tr>\n",
              "    <tr>\n",
              "      <th>4</th>\n",
              "      <td>32</td>\n",
              "      <td>male</td>\n",
              "      <td>28.880</td>\n",
              "      <td>0</td>\n",
              "      <td>no</td>\n",
              "      <td>northwest</td>\n",
              "      <td>3866.85520</td>\n",
              "    </tr>\n",
              "  </tbody>\n",
              "</table>\n",
              "</div>"
            ],
            "text/plain": [
              "   age     sex     bmi  children smoker     region      charges\n",
              "0   19  female  27.900         0    yes  southwest  16884.92400\n",
              "1   18    male  33.770         1     no  southeast   1725.55230\n",
              "2   28    male  33.000         3     no  southeast   4449.46200\n",
              "3   33    male  22.705         0     no  northwest  21984.47061\n",
              "4   32    male  28.880         0     no  northwest   3866.85520"
            ]
          },
          "metadata": {},
          "execution_count": 120
        }
      ]
    },
    {
      "cell_type": "code",
      "metadata": {
        "colab": {
          "base_uri": "https://localhost:8080/"
        },
        "id": "Ibb2XL_cnTDt",
        "outputId": "f052231e-6f70-4bc3-9a8b-35a0f63afae0"
      },
      "source": [
        "df.isnull().sum()"
      ],
      "execution_count": null,
      "outputs": [
        {
          "output_type": "execute_result",
          "data": {
            "text/plain": [
              "age         0\n",
              "sex         0\n",
              "bmi         0\n",
              "children    0\n",
              "smoker      0\n",
              "region      0\n",
              "charges     0\n",
              "dtype: int64"
            ]
          },
          "metadata": {},
          "execution_count": 121
        }
      ]
    },
    {
      "cell_type": "code",
      "metadata": {
        "id": "-VOHShZknV_n"
      },
      "source": [
        "from sklearn.preprocessing import LabelEncoder\n",
        "lb=LabelEncoder()"
      ],
      "execution_count": null,
      "outputs": []
    },
    {
      "cell_type": "code",
      "metadata": {
        "id": "gKOSZyPSnYbk"
      },
      "source": [
        "df['sex']=lb.fit_transform(df['sex'])\n",
        "df['smoker']=lb.fit_transform(df['smoker'])\n",
        "df['region']=lb.fit_transform(df['region'])"
      ],
      "execution_count": null,
      "outputs": []
    },
    {
      "cell_type": "code",
      "metadata": {
        "colab": {
          "base_uri": "https://localhost:8080/",
          "height": 205
        },
        "id": "ZmFZYZlEnacI",
        "outputId": "862baffd-a0eb-442e-c360-6074943b4505"
      },
      "source": [
        "df.head()"
      ],
      "execution_count": null,
      "outputs": [
        {
          "output_type": "execute_result",
          "data": {
            "text/html": [
              "<div>\n",
              "<style scoped>\n",
              "    .dataframe tbody tr th:only-of-type {\n",
              "        vertical-align: middle;\n",
              "    }\n",
              "\n",
              "    .dataframe tbody tr th {\n",
              "        vertical-align: top;\n",
              "    }\n",
              "\n",
              "    .dataframe thead th {\n",
              "        text-align: right;\n",
              "    }\n",
              "</style>\n",
              "<table border=\"1\" class=\"dataframe\">\n",
              "  <thead>\n",
              "    <tr style=\"text-align: right;\">\n",
              "      <th></th>\n",
              "      <th>age</th>\n",
              "      <th>sex</th>\n",
              "      <th>bmi</th>\n",
              "      <th>children</th>\n",
              "      <th>smoker</th>\n",
              "      <th>region</th>\n",
              "      <th>charges</th>\n",
              "    </tr>\n",
              "  </thead>\n",
              "  <tbody>\n",
              "    <tr>\n",
              "      <th>0</th>\n",
              "      <td>19</td>\n",
              "      <td>0</td>\n",
              "      <td>27.900</td>\n",
              "      <td>0</td>\n",
              "      <td>1</td>\n",
              "      <td>3</td>\n",
              "      <td>16884.92400</td>\n",
              "    </tr>\n",
              "    <tr>\n",
              "      <th>1</th>\n",
              "      <td>18</td>\n",
              "      <td>1</td>\n",
              "      <td>33.770</td>\n",
              "      <td>1</td>\n",
              "      <td>0</td>\n",
              "      <td>2</td>\n",
              "      <td>1725.55230</td>\n",
              "    </tr>\n",
              "    <tr>\n",
              "      <th>2</th>\n",
              "      <td>28</td>\n",
              "      <td>1</td>\n",
              "      <td>33.000</td>\n",
              "      <td>3</td>\n",
              "      <td>0</td>\n",
              "      <td>2</td>\n",
              "      <td>4449.46200</td>\n",
              "    </tr>\n",
              "    <tr>\n",
              "      <th>3</th>\n",
              "      <td>33</td>\n",
              "      <td>1</td>\n",
              "      <td>22.705</td>\n",
              "      <td>0</td>\n",
              "      <td>0</td>\n",
              "      <td>1</td>\n",
              "      <td>21984.47061</td>\n",
              "    </tr>\n",
              "    <tr>\n",
              "      <th>4</th>\n",
              "      <td>32</td>\n",
              "      <td>1</td>\n",
              "      <td>28.880</td>\n",
              "      <td>0</td>\n",
              "      <td>0</td>\n",
              "      <td>1</td>\n",
              "      <td>3866.85520</td>\n",
              "    </tr>\n",
              "  </tbody>\n",
              "</table>\n",
              "</div>"
            ],
            "text/plain": [
              "   age  sex     bmi  children  smoker  region      charges\n",
              "0   19    0  27.900         0       1       3  16884.92400\n",
              "1   18    1  33.770         1       0       2   1725.55230\n",
              "2   28    1  33.000         3       0       2   4449.46200\n",
              "3   33    1  22.705         0       0       1  21984.47061\n",
              "4   32    1  28.880         0       0       1   3866.85520"
            ]
          },
          "metadata": {},
          "execution_count": 124
        }
      ]
    },
    {
      "cell_type": "code",
      "metadata": {
        "id": "7Zn3OTt4ncQh"
      },
      "source": [
        "x=df.iloc[:,:-1]\n",
        "y=df.iloc[:,-1]"
      ],
      "execution_count": null,
      "outputs": []
    },
    {
      "cell_type": "code",
      "metadata": {
        "id": "i2e9ZtktvM57"
      },
      "source": [
        "from sklearn.preprocessing import StandardScaler\n",
        "ss=StandardScaler()"
      ],
      "execution_count": null,
      "outputs": []
    },
    {
      "cell_type": "code",
      "metadata": {
        "id": "c0_ED_Zjvkxk"
      },
      "source": [
        "# df[['bmi']]=ss.fit_transform(df[['bmi']])\n",
        "# df[['age']]=ss.fit_transform(df[['age']])\n",
        "df[['charges']]=ss.fit_transform(df[['charges']])"
      ],
      "execution_count": null,
      "outputs": []
    },
    {
      "cell_type": "code",
      "metadata": {
        "colab": {
          "base_uri": "https://localhost:8080/",
          "height": 205
        },
        "id": "zmR5PYAOv1Uq",
        "outputId": "c4f99a18-62ea-40f7-eb9c-87e026afe51f"
      },
      "source": [
        "df.head()"
      ],
      "execution_count": null,
      "outputs": [
        {
          "output_type": "execute_result",
          "data": {
            "text/html": [
              "<div>\n",
              "<style scoped>\n",
              "    .dataframe tbody tr th:only-of-type {\n",
              "        vertical-align: middle;\n",
              "    }\n",
              "\n",
              "    .dataframe tbody tr th {\n",
              "        vertical-align: top;\n",
              "    }\n",
              "\n",
              "    .dataframe thead th {\n",
              "        text-align: right;\n",
              "    }\n",
              "</style>\n",
              "<table border=\"1\" class=\"dataframe\">\n",
              "  <thead>\n",
              "    <tr style=\"text-align: right;\">\n",
              "      <th></th>\n",
              "      <th>age</th>\n",
              "      <th>sex</th>\n",
              "      <th>bmi</th>\n",
              "      <th>children</th>\n",
              "      <th>smoker</th>\n",
              "      <th>region</th>\n",
              "      <th>charges</th>\n",
              "    </tr>\n",
              "  </thead>\n",
              "  <tbody>\n",
              "    <tr>\n",
              "      <th>0</th>\n",
              "      <td>19</td>\n",
              "      <td>0</td>\n",
              "      <td>27.900</td>\n",
              "      <td>0</td>\n",
              "      <td>1</td>\n",
              "      <td>3</td>\n",
              "      <td>0.298584</td>\n",
              "    </tr>\n",
              "    <tr>\n",
              "      <th>1</th>\n",
              "      <td>18</td>\n",
              "      <td>1</td>\n",
              "      <td>33.770</td>\n",
              "      <td>1</td>\n",
              "      <td>0</td>\n",
              "      <td>2</td>\n",
              "      <td>-0.953689</td>\n",
              "    </tr>\n",
              "    <tr>\n",
              "      <th>2</th>\n",
              "      <td>28</td>\n",
              "      <td>1</td>\n",
              "      <td>33.000</td>\n",
              "      <td>3</td>\n",
              "      <td>0</td>\n",
              "      <td>2</td>\n",
              "      <td>-0.728675</td>\n",
              "    </tr>\n",
              "    <tr>\n",
              "      <th>3</th>\n",
              "      <td>33</td>\n",
              "      <td>1</td>\n",
              "      <td>22.705</td>\n",
              "      <td>0</td>\n",
              "      <td>0</td>\n",
              "      <td>1</td>\n",
              "      <td>0.719843</td>\n",
              "    </tr>\n",
              "    <tr>\n",
              "      <th>4</th>\n",
              "      <td>32</td>\n",
              "      <td>1</td>\n",
              "      <td>28.880</td>\n",
              "      <td>0</td>\n",
              "      <td>0</td>\n",
              "      <td>1</td>\n",
              "      <td>-0.776802</td>\n",
              "    </tr>\n",
              "  </tbody>\n",
              "</table>\n",
              "</div>"
            ],
            "text/plain": [
              "   age  sex     bmi  children  smoker  region   charges\n",
              "0   19    0  27.900         0       1       3  0.298584\n",
              "1   18    1  33.770         1       0       2 -0.953689\n",
              "2   28    1  33.000         3       0       2 -0.728675\n",
              "3   33    1  22.705         0       0       1  0.719843\n",
              "4   32    1  28.880         0       0       1 -0.776802"
            ]
          },
          "metadata": {},
          "execution_count": 128
        }
      ]
    },
    {
      "cell_type": "code",
      "metadata": {
        "id": "fmn46Z9HneQc"
      },
      "source": [
        "from sklearn.model_selection import train_test_split\n",
        "x_train,x_test,y_train,y_test=train_test_split(x,y,test_size=.2)"
      ],
      "execution_count": null,
      "outputs": []
    },
    {
      "cell_type": "code",
      "metadata": {
        "colab": {
          "base_uri": "https://localhost:8080/"
        },
        "id": "RdgAsOXtnftg",
        "outputId": "83edd314-37fd-4645-f4ca-1a17eefa88d2"
      },
      "source": [
        "print(x_train.shape)\n",
        "print(y_train.shape)\n",
        "print(x_test.shape)\n",
        "print(y_test.shape)"
      ],
      "execution_count": null,
      "outputs": [
        {
          "output_type": "stream",
          "name": "stdout",
          "text": [
            "(1070, 6)\n",
            "(1070,)\n",
            "(268, 6)\n",
            "(268,)\n"
          ]
        }
      ]
    },
    {
      "cell_type": "code",
      "metadata": {
        "id": "E8U9xWjonhTh"
      },
      "source": [
        "mod=Sequential()"
      ],
      "execution_count": null,
      "outputs": []
    },
    {
      "cell_type": "code",
      "metadata": {
        "id": "VcL87niAnpbm"
      },
      "source": [
        "mod.add(Dense(12,activation='relu',input_dim=6))\n",
        "# mod.add(Dense(3,activation='relu'))\n",
        "mod.add(Dense(1))"
      ],
      "execution_count": null,
      "outputs": []
    },
    {
      "cell_type": "code",
      "metadata": {
        "id": "VftTVzl-nxBq"
      },
      "source": [
        "mod.compile(optimizer='rmsprop',loss='mse',metrics=['mse','mae'])"
      ],
      "execution_count": null,
      "outputs": []
    },
    {
      "cell_type": "code",
      "metadata": {
        "colab": {
          "base_uri": "https://localhost:8080/"
        },
        "id": "NLF-BoI2oHRS",
        "outputId": "1f406c12-87fa-4e9e-af45-31ca8d5089c4"
      },
      "source": [
        "h1=mod.fit(x_train,y_train,epochs=30,validation_data=(x_test,y_test))"
      ],
      "execution_count": null,
      "outputs": [
        {
          "output_type": "stream",
          "name": "stdout",
          "text": [
            "Epoch 1/30\n",
            "34/34 [==============================] - 1s 5ms/step - loss: 45.0802 - mse: 45.0802 - mae: 6.3628 - val_loss: 24.7726 - val_mse: 24.7726 - val_mae: 4.7278\n",
            "Epoch 2/30\n",
            "34/34 [==============================] - 0s 2ms/step - loss: 13.3248 - mse: 13.3248 - mae: 3.2639 - val_loss: 5.8087 - val_mse: 5.8087 - val_mae: 2.0245\n",
            "Epoch 3/30\n",
            "34/34 [==============================] - 0s 2ms/step - loss: 3.4009 - mse: 3.4009 - mae: 1.3454 - val_loss: 1.6643 - val_mse: 1.6643 - val_mae: 0.9481\n",
            "Epoch 4/30\n",
            "34/34 [==============================] - 0s 2ms/step - loss: 1.8225 - mse: 1.8225 - mae: 1.0062 - val_loss: 1.3692 - val_mse: 1.3692 - val_mae: 0.9164\n",
            "Epoch 5/30\n",
            "34/34 [==============================] - 0s 2ms/step - loss: 1.4967 - mse: 1.4967 - mae: 0.9448 - val_loss: 1.2302 - val_mse: 1.2302 - val_mae: 0.8707\n",
            "Epoch 6/30\n",
            "34/34 [==============================] - 0s 2ms/step - loss: 1.3124 - mse: 1.3124 - mae: 0.8899 - val_loss: 1.2289 - val_mse: 1.2289 - val_mae: 0.7976\n",
            "Epoch 7/30\n",
            "34/34 [==============================] - 0s 2ms/step - loss: 1.2008 - mse: 1.2008 - mae: 0.8453 - val_loss: 1.1091 - val_mse: 1.1091 - val_mae: 0.7750\n",
            "Epoch 8/30\n",
            "34/34 [==============================] - 0s 2ms/step - loss: 1.0984 - mse: 1.0984 - mae: 0.8102 - val_loss: 1.0520 - val_mse: 1.0520 - val_mae: 0.7546\n",
            "Epoch 9/30\n",
            "34/34 [==============================] - 0s 2ms/step - loss: 1.0263 - mse: 1.0263 - mae: 0.7880 - val_loss: 1.0372 - val_mse: 1.0372 - val_mae: 0.7194\n",
            "Epoch 10/30\n",
            "34/34 [==============================] - 0s 2ms/step - loss: 0.9684 - mse: 0.9684 - mae: 0.7558 - val_loss: 0.9667 - val_mse: 0.9667 - val_mae: 0.7656\n",
            "Epoch 11/30\n",
            "34/34 [==============================] - 0s 2ms/step - loss: 0.9118 - mse: 0.9118 - mae: 0.7321 - val_loss: 1.0061 - val_mse: 1.0061 - val_mae: 0.6686\n",
            "Epoch 12/30\n",
            "34/34 [==============================] - 0s 2ms/step - loss: 0.8684 - mse: 0.8684 - mae: 0.7032 - val_loss: 0.9184 - val_mse: 0.9184 - val_mae: 0.6948\n",
            "Epoch 13/30\n",
            "34/34 [==============================] - 0s 2ms/step - loss: 0.8246 - mse: 0.8246 - mae: 0.6957 - val_loss: 0.9475 - val_mse: 0.9475 - val_mae: 0.6385\n",
            "Epoch 14/30\n",
            "34/34 [==============================] - 0s 2ms/step - loss: 0.7887 - mse: 0.7887 - mae: 0.6707 - val_loss: 0.8720 - val_mse: 0.8720 - val_mae: 0.6915\n",
            "Epoch 15/30\n",
            "34/34 [==============================] - 0s 2ms/step - loss: 0.7537 - mse: 0.7537 - mae: 0.6655 - val_loss: 0.9254 - val_mse: 0.9254 - val_mae: 0.6184\n",
            "Epoch 16/30\n",
            "34/34 [==============================] - 0s 2ms/step - loss: 0.7364 - mse: 0.7364 - mae: 0.6510 - val_loss: 0.9267 - val_mse: 0.9267 - val_mae: 0.6063\n",
            "Epoch 17/30\n",
            "34/34 [==============================] - 0s 2ms/step - loss: 0.7158 - mse: 0.7158 - mae: 0.6403 - val_loss: 0.8349 - val_mse: 0.8349 - val_mae: 0.6388\n",
            "Epoch 18/30\n",
            "34/34 [==============================] - 0s 2ms/step - loss: 0.6921 - mse: 0.6921 - mae: 0.6356 - val_loss: 0.8375 - val_mse: 0.8375 - val_mae: 0.6065\n",
            "Epoch 19/30\n",
            "34/34 [==============================] - 0s 3ms/step - loss: 0.6716 - mse: 0.6716 - mae: 0.6244 - val_loss: 0.7861 - val_mse: 0.7861 - val_mae: 0.6578\n",
            "Epoch 20/30\n",
            "34/34 [==============================] - 0s 2ms/step - loss: 0.6577 - mse: 0.6577 - mae: 0.6183 - val_loss: 0.7752 - val_mse: 0.7752 - val_mae: 0.6370\n",
            "Epoch 21/30\n",
            "34/34 [==============================] - 0s 2ms/step - loss: 0.6396 - mse: 0.6396 - mae: 0.6124 - val_loss: 0.8566 - val_mse: 0.8566 - val_mae: 0.5647\n",
            "Epoch 22/30\n",
            "34/34 [==============================] - 0s 2ms/step - loss: 0.6276 - mse: 0.6276 - mae: 0.5960 - val_loss: 0.7425 - val_mse: 0.7425 - val_mae: 0.6213\n",
            "Epoch 23/30\n",
            "34/34 [==============================] - 0s 2ms/step - loss: 0.6054 - mse: 0.6054 - mae: 0.5882 - val_loss: 0.7259 - val_mse: 0.7259 - val_mae: 0.6180\n",
            "Epoch 24/30\n",
            "34/34 [==============================] - 0s 2ms/step - loss: 0.5902 - mse: 0.5902 - mae: 0.5859 - val_loss: 0.7089 - val_mse: 0.7089 - val_mae: 0.6466\n",
            "Epoch 25/30\n",
            "34/34 [==============================] - 0s 2ms/step - loss: 0.5730 - mse: 0.5730 - mae: 0.5780 - val_loss: 0.7049 - val_mse: 0.7049 - val_mae: 0.5805\n",
            "Epoch 26/30\n",
            "34/34 [==============================] - 0s 2ms/step - loss: 0.5617 - mse: 0.5617 - mae: 0.5683 - val_loss: 0.6775 - val_mse: 0.6775 - val_mae: 0.6079\n",
            "Epoch 27/30\n",
            "34/34 [==============================] - 0s 2ms/step - loss: 0.5469 - mse: 0.5469 - mae: 0.5646 - val_loss: 0.6706 - val_mse: 0.6706 - val_mae: 0.5697\n",
            "Epoch 28/30\n",
            "34/34 [==============================] - 0s 2ms/step - loss: 0.5266 - mse: 0.5266 - mae: 0.5541 - val_loss: 0.6778 - val_mse: 0.6778 - val_mae: 0.5418\n",
            "Epoch 29/30\n",
            "34/34 [==============================] - 0s 2ms/step - loss: 0.5190 - mse: 0.5190 - mae: 0.5494 - val_loss: 0.6388 - val_mse: 0.6388 - val_mae: 0.5672\n",
            "Epoch 30/30\n",
            "34/34 [==============================] - 0s 2ms/step - loss: 0.5054 - mse: 0.5054 - mae: 0.5387 - val_loss: 0.6230 - val_mse: 0.6230 - val_mae: 0.5725\n"
          ]
        }
      ]
    },
    {
      "cell_type": "code",
      "metadata": {
        "colab": {
          "base_uri": "https://localhost:8080/",
          "height": 205
        },
        "id": "WcEIIMsJoQQH",
        "outputId": "b09ca3f4-f737-4e31-c013-6ba05060ce84"
      },
      "source": [
        "res=pd.DataFrame(h1.history)\n",
        "res['Epochs']=range(1,31)\n",
        "res.tail()"
      ],
      "execution_count": null,
      "outputs": [
        {
          "output_type": "execute_result",
          "data": {
            "text/html": [
              "<div>\n",
              "<style scoped>\n",
              "    .dataframe tbody tr th:only-of-type {\n",
              "        vertical-align: middle;\n",
              "    }\n",
              "\n",
              "    .dataframe tbody tr th {\n",
              "        vertical-align: top;\n",
              "    }\n",
              "\n",
              "    .dataframe thead th {\n",
              "        text-align: right;\n",
              "    }\n",
              "</style>\n",
              "<table border=\"1\" class=\"dataframe\">\n",
              "  <thead>\n",
              "    <tr style=\"text-align: right;\">\n",
              "      <th></th>\n",
              "      <th>loss</th>\n",
              "      <th>mse</th>\n",
              "      <th>mae</th>\n",
              "      <th>val_loss</th>\n",
              "      <th>val_mse</th>\n",
              "      <th>val_mae</th>\n",
              "      <th>Epochs</th>\n",
              "    </tr>\n",
              "  </thead>\n",
              "  <tbody>\n",
              "    <tr>\n",
              "      <th>25</th>\n",
              "      <td>0.561701</td>\n",
              "      <td>0.561701</td>\n",
              "      <td>0.568309</td>\n",
              "      <td>0.677511</td>\n",
              "      <td>0.677511</td>\n",
              "      <td>0.607892</td>\n",
              "      <td>26</td>\n",
              "    </tr>\n",
              "    <tr>\n",
              "      <th>26</th>\n",
              "      <td>0.546878</td>\n",
              "      <td>0.546878</td>\n",
              "      <td>0.564582</td>\n",
              "      <td>0.670608</td>\n",
              "      <td>0.670608</td>\n",
              "      <td>0.569726</td>\n",
              "      <td>27</td>\n",
              "    </tr>\n",
              "    <tr>\n",
              "      <th>27</th>\n",
              "      <td>0.526636</td>\n",
              "      <td>0.526636</td>\n",
              "      <td>0.554063</td>\n",
              "      <td>0.677828</td>\n",
              "      <td>0.677828</td>\n",
              "      <td>0.541760</td>\n",
              "      <td>28</td>\n",
              "    </tr>\n",
              "    <tr>\n",
              "      <th>28</th>\n",
              "      <td>0.519008</td>\n",
              "      <td>0.519008</td>\n",
              "      <td>0.549435</td>\n",
              "      <td>0.638795</td>\n",
              "      <td>0.638795</td>\n",
              "      <td>0.567174</td>\n",
              "      <td>29</td>\n",
              "    </tr>\n",
              "    <tr>\n",
              "      <th>29</th>\n",
              "      <td>0.505368</td>\n",
              "      <td>0.505368</td>\n",
              "      <td>0.538717</td>\n",
              "      <td>0.623002</td>\n",
              "      <td>0.623002</td>\n",
              "      <td>0.572544</td>\n",
              "      <td>30</td>\n",
              "    </tr>\n",
              "  </tbody>\n",
              "</table>\n",
              "</div>"
            ],
            "text/plain": [
              "        loss       mse       mae  val_loss   val_mse   val_mae  Epochs\n",
              "25  0.561701  0.561701  0.568309  0.677511  0.677511  0.607892      26\n",
              "26  0.546878  0.546878  0.564582  0.670608  0.670608  0.569726      27\n",
              "27  0.526636  0.526636  0.554063  0.677828  0.677828  0.541760      28\n",
              "28  0.519008  0.519008  0.549435  0.638795  0.638795  0.567174      29\n",
              "29  0.505368  0.505368  0.538717  0.623002  0.623002  0.572544      30"
            ]
          },
          "metadata": {},
          "execution_count": 159
        }
      ]
    },
    {
      "cell_type": "code",
      "metadata": {
        "colab": {
          "base_uri": "https://localhost:8080/",
          "height": 281
        },
        "id": "5BseoYT_sUyl",
        "outputId": "5f504584-8a6c-4dd5-9758-bbdbc5753796"
      },
      "source": [
        "plt.plot(res['Epochs'],res['loss'],label='Training loss')\n",
        "plt.plot(res['Epochs'],res['val_loss'],label='Testing loss')\n",
        "plt.title('Training Vs Testing loss')\n",
        "plt.legend()\n",
        "plt.show()"
      ],
      "execution_count": null,
      "outputs": [
        {
          "output_type": "display_data",
          "data": {
            "image/png": "[encoded data removed]",
            "text/plain": [
              "<Figure size 432x288 with 1 Axes>"
            ]
          },
          "metadata": {
            "needs_background": "light"
          }
        }
      ]
    },
    {
      "cell_type": "code",
      "metadata": {
        "id": "1biaILswsrwn"
      },
      "source": [
        "y_pred=mod.predict(x_test)"
      ],
      "execution_count": null,
      "outputs": []
    },
    {
      "cell_type": "code",
      "metadata": {
        "colab": {
          "base_uri": "https://localhost:8080/"
        },
        "id": "Sgs58ehctR-m",
        "outputId": "ff1f56c3-b9b4-4a60-935e-b143be845116"
      },
      "source": [
        "y_pred"
      ],
      "execution_count": null,
      "outputs": [
        {
          "output_type": "execute_result",
          "data": {
            "text/plain": [
              "array([[ 0.18024045],\n",
              "       [-0.26848406],\n",
              "       [-0.3697397 ],\n",
              "       [-0.19559354],\n",
              "       [-0.33187026],\n",
              "       [-0.03971881],\n",
              "       [-0.48774093],\n",
              "       [ 0.09429198],\n",
              "       [ 1.0445826 ],\n",
              "       [-0.31238884],\n",
              "       [-0.17295998],\n",
              "       [-0.4981622 ],\n",
              "       [ 0.2164486 ],\n",
              "       [-0.29249567],\n",
              "       [ 0.09164505],\n",
              "       [-0.26884526],\n",
              "       [-0.16559714],\n",
              "       [ 0.77599007],\n",
              "       [-0.32336944],\n",
              "       [-0.23135155],\n",
              "       [ 0.18115884],\n",
              "       [-0.35277313],\n",
              "       [-0.291084  ],\n",
              "       [ 0.07458764],\n",
              "       [ 0.15458232],\n",
              "       [-0.49833363],\n",
              "       [-0.5125181 ],\n",
              "       [ 0.8848632 ],\n",
              "       [-0.30903834],\n",
              "       [ 0.21404725],\n",
              "       [-0.4968874 ],\n",
              "       [-0.43245476],\n",
              "       [ 0.4424408 ],\n",
              "       [-0.06147642],\n",
              "       [ 0.07714539],\n",
              "       [ 0.00621062],\n",
              "       [-0.35679072],\n",
              "       [-0.59951895],\n",
              "       [ 0.3044284 ],\n",
              "       [-0.28160352],\n",
              "       [ 0.8629425 ],\n",
              "       [-0.3738944 ],\n",
              "       [ 0.8896864 ],\n",
              "       [ 0.5848556 ],\n",
              "       [-0.2041108 ],\n",
              "       [-0.39206022],\n",
              "       [ 0.67678005],\n",
              "       [-0.25958008],\n",
              "       [ 0.099222  ],\n",
              "       [ 1.0234392 ],\n",
              "       [-0.466973  ],\n",
              "       [ 0.9568437 ],\n",
              "       [-0.20115083],\n",
              "       [ 0.978978  ],\n",
              "       [ 0.06496935],\n",
              "       [-0.02107114],\n",
              "       [ 0.8537076 ],\n",
              "       [ 0.74876577],\n",
              "       [-0.45556802],\n",
              "       [ 0.61198837],\n",
              "       [-0.1387884 ],\n",
              "       [ 0.12871486],\n",
              "       [-0.08546752],\n",
              "       [-0.5894446 ],\n",
              "       [-0.20413035],\n",
              "       [ 0.23246795],\n",
              "       [ 0.19991714],\n",
              "       [ 0.2176078 ],\n",
              "       [-0.05986852],\n",
              "       [ 0.25081187],\n",
              "       [-0.65600985],\n",
              "       [-0.01695842],\n",
              "       [-0.4207918 ],\n",
              "       [-0.40856045],\n",
              "       [ 0.66804653],\n",
              "       [-0.24444741],\n",
              "       [-0.18963927],\n",
              "       [-0.42307967],\n",
              "       [-0.10968895],\n",
              "       [ 0.44342858],\n",
              "       [-0.44957274],\n",
              "       [ 0.18267041],\n",
              "       [ 0.72560436],\n",
              "       [ 0.02528887],\n",
              "       [-0.48767537],\n",
              "       [ 0.25290138],\n",
              "       [ 0.35284644],\n",
              "       [-0.380706  ],\n",
              "       [ 0.36262447],\n",
              "       [-0.46931928],\n",
              "       [-0.26542348],\n",
              "       [ 0.03734427],\n",
              "       [-0.47804517],\n",
              "       [ 0.89772683],\n",
              "       [ 1.0139778 ],\n",
              "       [-0.3409509 ],\n",
              "       [ 0.16940719],\n",
              "       [ 0.5660623 ],\n",
              "       [-0.02793951],\n",
              "       [-0.08608741],\n",
              "       [-0.05010194],\n",
              "       [-0.44347972],\n",
              "       [-0.0236165 ],\n",
              "       [-0.09416766],\n",
              "       [-0.5278844 ],\n",
              "       [-0.30982608],\n",
              "       [-0.50169224],\n",
              "       [-0.12108297],\n",
              "       [-0.23478144],\n",
              "       [ 0.81797296],\n",
              "       [-0.07404012],\n",
              "       [ 0.0094245 ],\n",
              "       [-0.07649822],\n",
              "       [ 0.38352233],\n",
              "       [ 0.9781197 ],\n",
              "       [-0.18144196],\n",
              "       [-0.06643648],\n",
              "       [ 0.12472706],\n",
              "       [ 0.5231896 ],\n",
              "       [-0.13744324],\n",
              "       [-0.20887679],\n",
              "       [-0.21039599],\n",
              "       [-0.05286235],\n",
              "       [-0.06995029],\n",
              "       [-0.3528821 ],\n",
              "       [ 0.1999467 ],\n",
              "       [-0.1942088 ],\n",
              "       [-0.03330917],\n",
              "       [-0.5461535 ],\n",
              "       [ 0.28509122],\n",
              "       [-0.02240009],\n",
              "       [-0.12560004],\n",
              "       [-0.03136558],\n",
              "       [-0.9886288 ],\n",
              "       [-0.30534762],\n",
              "       [ 0.97971374],\n",
              "       [ 0.03739243],\n",
              "       [ 1.1827514 ],\n",
              "       [ 0.00650053],\n",
              "       [-0.26612872],\n",
              "       [ 0.16452771],\n",
              "       [-0.08073539],\n",
              "       [ 0.03164416],\n",
              "       [ 0.81241184],\n",
              "       [-0.42360777],\n",
              "       [ 0.12245684],\n",
              "       [-0.35683984],\n",
              "       [-0.03624839],\n",
              "       [-0.03437299],\n",
              "       [-0.37776965],\n",
              "       [-0.4784202 ],\n",
              "       [ 0.19335872],\n",
              "       [ 0.49386436],\n",
              "       [ 0.9046243 ],\n",
              "       [ 0.21308738],\n",
              "       [ 0.165438  ],\n",
              "       [-0.14902896],\n",
              "       [-0.6385035 ],\n",
              "       [ 0.89777833],\n",
              "       [ 0.07935839],\n",
              "       [-0.32741398],\n",
              "       [-0.33754653],\n",
              "       [-0.274306  ],\n",
              "       [-0.505279  ],\n",
              "       [-0.15853137],\n",
              "       [ 0.66051465],\n",
              "       [-0.23555201],\n",
              "       [ 0.22893888],\n",
              "       [-0.18039197],\n",
              "       [-0.22822493],\n",
              "       [ 0.9842804 ],\n",
              "       [-0.25522536],\n",
              "       [ 1.0299757 ],\n",
              "       [-0.13868183],\n",
              "       [-0.1856839 ],\n",
              "       [ 0.56171876],\n",
              "       [-0.12819642],\n",
              "       [-0.01968927],\n",
              "       [-0.28469104],\n",
              "       [-0.17965335],\n",
              "       [ 0.18503791],\n",
              "       [ 0.36793596],\n",
              "       [-0.54714984],\n",
              "       [ 0.20191652],\n",
              "       [-0.3414566 ],\n",
              "       [-0.38379472],\n",
              "       [-0.11384458],\n",
              "       [ 0.05619221],\n",
              "       [ 0.9032629 ],\n",
              "       [-0.519175  ],\n",
              "       [-0.1801545 ],\n",
              "       [-0.2820155 ],\n",
              "       [ 0.28736287],\n",
              "       [-0.23126668],\n",
              "       [-0.25533837],\n",
              "       [-0.25202864],\n",
              "       [-0.22231239],\n",
              "       [ 0.5455182 ],\n",
              "       [ 0.79249674],\n",
              "       [-0.40789956],\n",
              "       [ 0.18325883],\n",
              "       [-0.19662303],\n",
              "       [ 0.01216774],\n",
              "       [-0.44806784],\n",
              "       [ 0.23157436],\n",
              "       [-0.1381895 ],\n",
              "       [-0.26684517],\n",
              "       [-0.61144537],\n",
              "       [ 0.33734256],\n",
              "       [-0.29508942],\n",
              "       [-0.18488067],\n",
              "       [ 0.05585652],\n",
              "       [-0.56096953],\n",
              "       [-0.35546273],\n",
              "       [ 0.38213283],\n",
              "       [ 0.9413665 ],\n",
              "       [ 0.94468147],\n",
              "       [-0.47243255],\n",
              "       [-0.65196294],\n",
              "       [-0.324897  ],\n",
              "       [-0.06748695],\n",
              "       [ 0.5892649 ],\n",
              "       [ 0.18225652],\n",
              "       [ 0.41181213],\n",
              "       [ 0.4586056 ],\n",
              "       [-0.35359734],\n",
              "       [-0.37777418],\n",
              "       [ 1.0376961 ],\n",
              "       [-0.09462161],\n",
              "       [ 0.22918254],\n",
              "       [ 1.0728686 ],\n",
              "       [ 0.639108  ],\n",
              "       [ 0.01924353],\n",
              "       [ 0.06360703],\n",
              "       [ 0.69291955],\n",
              "       [-0.56667894],\n",
              "       [-0.22590941],\n",
              "       [-0.50060815],\n",
              "       [ 0.7332278 ],\n",
              "       [ 0.03046303],\n",
              "       [ 0.09451895],\n",
              "       [ 0.9150372 ],\n",
              "       [-0.20301694],\n",
              "       [-0.5903911 ],\n",
              "       [-0.03040952],\n",
              "       [-0.36680216],\n",
              "       [-0.46022886],\n",
              "       [ 0.29074174],\n",
              "       [ 0.14507896],\n",
              "       [ 0.40322524],\n",
              "       [ 0.9816006 ],\n",
              "       [ 0.40319663],\n",
              "       [-0.3118071 ],\n",
              "       [ 0.1452573 ],\n",
              "       [ 0.20725757],\n",
              "       [-0.49809188],\n",
              "       [ 0.30718166],\n",
              "       [ 0.51493484],\n",
              "       [ 0.18631059],\n",
              "       [-0.00224514],\n",
              "       [-0.04403705],\n",
              "       [-0.2814533 ],\n",
              "       [-0.09029693],\n",
              "       [-0.4607882 ],\n",
              "       [ 0.55023605],\n",
              "       [-0.4193055 ],\n",
              "       [-0.48987168],\n",
              "       [ 0.366329  ]], dtype=float32)"
            ]
          },
          "metadata": {},
          "execution_count": 162
        }
      ]
    }
  ]
}