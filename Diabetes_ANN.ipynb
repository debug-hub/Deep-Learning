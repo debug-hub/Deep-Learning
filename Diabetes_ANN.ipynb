{
  "nbformat": 4,
  "nbformat_minor": 0,
  "metadata": {
    "colab": {
      "name": "Diabetes ANN.ipynb",
      "provenance": []
    },
    "kernelspec": {
      "name": "python3",
      "display_name": "Python 3"
    },
    "language_info": {
      "name": "python"
    }
  },
  "cells": [
    {
      "cell_type": "code",
      "metadata": {
        "id": "3kdu4RFCFfqa"
      },
      "source": [
        "import pandas as pd\n",
        "import numpy as np\n",
        "import matplotlib.pyplot as plt"
      ],
      "execution_count": null,
      "outputs": []
    },
    {
      "cell_type": "code",
      "metadata": {
        "id": "WjBtQxN8Hn5C"
      },
      "source": [
        "import tensorflow as tf\n",
        "from tensorflow.keras.models import Sequential\n",
        "from tensorflow.keras.layers import Dense"
      ],
      "execution_count": null,
      "outputs": []
    },
    {
      "cell_type": "code",
      "metadata": {
        "id": "yIkw4a9gHy-M"
      },
      "source": [
        "df=pd.read_csv('/content/diabetes.csv')"
      ],
      "execution_count": null,
      "outputs": []
    },
    {
      "cell_type": "code",
      "metadata": {
        "colab": {
          "base_uri": "https://localhost:8080/",
          "height": 205
        },
        "id": "-FRlXizYH-2u",
        "outputId": "626d53e1-3f82-43ba-e133-1114284efaf3"
      },
      "source": [
        "df.head()"
      ],
      "execution_count": null,
      "outputs": [
        {
          "output_type": "execute_result",
          "data": {
            "text/html": [
              "<div>\n",
              "<style scoped>\n",
              "    .dataframe tbody tr th:only-of-type {\n",
              "        vertical-align: middle;\n",
              "    }\n",
              "\n",
              "    .dataframe tbody tr th {\n",
              "        vertical-align: top;\n",
              "    }\n",
              "\n",
              "    .dataframe thead th {\n",
              "        text-align: right;\n",
              "    }\n",
              "</style>\n",
              "<table border=\"1\" class=\"dataframe\">\n",
              "  <thead>\n",
              "    <tr style=\"text-align: right;\">\n",
              "      <th></th>\n",
              "      <th>Pregnancies</th>\n",
              "      <th>Glucose</th>\n",
              "      <th>BloodPressure</th>\n",
              "      <th>SkinThickness</th>\n",
              "      <th>Insulin</th>\n",
              "      <th>BMI</th>\n",
              "      <th>DiabetesPedigreeFunction</th>\n",
              "      <th>Age</th>\n",
              "      <th>Outcome</th>\n",
              "    </tr>\n",
              "  </thead>\n",
              "  <tbody>\n",
              "    <tr>\n",
              "      <th>0</th>\n",
              "      <td>6</td>\n",
              "      <td>148</td>\n",
              "      <td>72</td>\n",
              "      <td>35</td>\n",
              "      <td>0</td>\n",
              "      <td>33.6</td>\n",
              "      <td>0.627</td>\n",
              "      <td>50</td>\n",
              "      <td>1</td>\n",
              "    </tr>\n",
              "    <tr>\n",
              "      <th>1</th>\n",
              "      <td>1</td>\n",
              "      <td>85</td>\n",
              "      <td>66</td>\n",
              "      <td>29</td>\n",
              "      <td>0</td>\n",
              "      <td>26.6</td>\n",
              "      <td>0.351</td>\n",
              "      <td>31</td>\n",
              "      <td>0</td>\n",
              "    </tr>\n",
              "    <tr>\n",
              "      <th>2</th>\n",
              "      <td>8</td>\n",
              "      <td>183</td>\n",
              "      <td>64</td>\n",
              "      <td>0</td>\n",
              "      <td>0</td>\n",
              "      <td>23.3</td>\n",
              "      <td>0.672</td>\n",
              "      <td>32</td>\n",
              "      <td>1</td>\n",
              "    </tr>\n",
              "    <tr>\n",
              "      <th>3</th>\n",
              "      <td>1</td>\n",
              "      <td>89</td>\n",
              "      <td>66</td>\n",
              "      <td>23</td>\n",
              "      <td>94</td>\n",
              "      <td>28.1</td>\n",
              "      <td>0.167</td>\n",
              "      <td>21</td>\n",
              "      <td>0</td>\n",
              "    </tr>\n",
              "    <tr>\n",
              "      <th>4</th>\n",
              "      <td>0</td>\n",
              "      <td>137</td>\n",
              "      <td>40</td>\n",
              "      <td>35</td>\n",
              "      <td>168</td>\n",
              "      <td>43.1</td>\n",
              "      <td>2.288</td>\n",
              "      <td>33</td>\n",
              "      <td>1</td>\n",
              "    </tr>\n",
              "  </tbody>\n",
              "</table>\n",
              "</div>"
            ],
            "text/plain": [
              "   Pregnancies  Glucose  BloodPressure  ...  DiabetesPedigreeFunction  Age  Outcome\n",
              "0            6      148             72  ...                     0.627   50        1\n",
              "1            1       85             66  ...                     0.351   31        0\n",
              "2            8      183             64  ...                     0.672   32        1\n",
              "3            1       89             66  ...                     0.167   21        0\n",
              "4            0      137             40  ...                     2.288   33        1\n",
              "\n",
              "[5 rows x 9 columns]"
            ]
          },
          "metadata": {},
          "execution_count": 24
        }
      ]
    },
    {
      "cell_type": "code",
      "metadata": {
        "colab": {
          "base_uri": "https://localhost:8080/"
        },
        "id": "_MlVo982IBEN",
        "outputId": "9a71592e-9fe9-4c7d-8965-bdc77dd99abe"
      },
      "source": [
        "df.isnull().sum()"
      ],
      "execution_count": null,
      "outputs": [
        {
          "output_type": "execute_result",
          "data": {
            "text/plain": [
              "Pregnancies                 0\n",
              "Glucose                     0\n",
              "BloodPressure               0\n",
              "SkinThickness               0\n",
              "Insulin                     0\n",
              "BMI                         0\n",
              "DiabetesPedigreeFunction    0\n",
              "Age                         0\n",
              "Outcome                     0\n",
              "dtype: int64"
            ]
          },
          "metadata": {},
          "execution_count": 25
        }
      ]
    },
    {
      "cell_type": "code",
      "metadata": {
        "id": "FR2cHNzXIFyr"
      },
      "source": [
        "x=df.iloc[:,:-1]\n",
        "y=df.iloc[:,-1]"
      ],
      "execution_count": null,
      "outputs": []
    },
    {
      "cell_type": "code",
      "metadata": {
        "id": "YBXouAEDINGE"
      },
      "source": [
        "from sklearn.model_selection import train_test_split\n",
        "x_train,x_test,y_train,y_test=train_test_split(x,y,test_size=.25)"
      ],
      "execution_count": null,
      "outputs": []
    },
    {
      "cell_type": "code",
      "metadata": {
        "colab": {
          "base_uri": "https://localhost:8080/"
        },
        "id": "Zv_fNaG1Iafv",
        "outputId": "1dfb25f3-be02-412c-c108-02333d27e98f"
      },
      "source": [
        "print(x_train.shape)\n",
        "print(y_train.shape)\n",
        "print(x_test.shape)\n",
        "print(y_test.shape)"
      ],
      "execution_count": null,
      "outputs": [
        {
          "output_type": "stream",
          "name": "stdout",
          "text": [
            "(576, 8)\n",
            "(576,)\n",
            "(192, 8)\n",
            "(192,)\n"
          ]
        }
      ]
    },
    {
      "cell_type": "code",
      "metadata": {
        "id": "rfNeuVYIIlWh"
      },
      "source": [
        "from tensorflow.keras.utils import to_categorical"
      ],
      "execution_count": null,
      "outputs": []
    },
    {
      "cell_type": "code",
      "metadata": {
        "id": "Xl6ABi_CIq-w"
      },
      "source": [
        "y_train=to_categorical(y_train)\n",
        "y_test1=to_categorical(y_test)"
      ],
      "execution_count": null,
      "outputs": []
    },
    {
      "cell_type": "code",
      "metadata": {
        "id": "75xqIOpUIwtc"
      },
      "source": [
        "mod=Sequential()\n",
        "mod.add(Dense(10,activation='relu',input_dim=8))\n",
        "mod.add(Dense(2,activation='sigmoid'))"
      ],
      "execution_count": null,
      "outputs": []
    },
    {
      "cell_type": "code",
      "metadata": {
        "id": "yZv6x34TJDQT"
      },
      "source": [
        "mod.compile(optimizer='rmsprop',loss='binary_crossentropy',metrics=['accuracy'])"
      ],
      "execution_count": null,
      "outputs": []
    },
    {
      "cell_type": "code",
      "metadata": {
        "colab": {
          "base_uri": "https://localhost:8080/"
        },
        "id": "oEysPeNdJNVx",
        "outputId": "3231afdf-de3c-47e4-f659-bf123411c5c2"
      },
      "source": [
        "h1=mod.fit(x_train,y_train,epochs=100,validation_data=(x_test,y_test1))"
      ],
      "execution_count": null,
      "outputs": [
        {
          "output_type": "stream",
          "name": "stdout",
          "text": [
            "Epoch 1/100\n",
            "18/18 [==============================] - 1s 11ms/step - loss: 6.2640 - accuracy: 0.3524 - val_loss: 4.1473 - val_accuracy: 0.4219\n",
            "Epoch 2/100\n",
            "18/18 [==============================] - 0s 3ms/step - loss: 3.7292 - accuracy: 0.3785 - val_loss: 2.8341 - val_accuracy: 0.3802\n",
            "Epoch 3/100\n",
            "18/18 [==============================] - 0s 3ms/step - loss: 3.0777 - accuracy: 0.3889 - val_loss: 2.5190 - val_accuracy: 0.4167\n",
            "Epoch 4/100\n",
            "18/18 [==============================] - 0s 3ms/step - loss: 2.7471 - accuracy: 0.4340 - val_loss: 2.2459 - val_accuracy: 0.4427\n",
            "Epoch 5/100\n",
            "18/18 [==============================] - 0s 3ms/step - loss: 2.4922 - accuracy: 0.4809 - val_loss: 2.0424 - val_accuracy: 0.4635\n",
            "Epoch 6/100\n",
            "18/18 [==============================] - 0s 4ms/step - loss: 2.2435 - accuracy: 0.5035 - val_loss: 1.8286 - val_accuracy: 0.5208\n",
            "Epoch 7/100\n",
            "18/18 [==============================] - 0s 3ms/step - loss: 1.9982 - accuracy: 0.5642 - val_loss: 1.6219 - val_accuracy: 0.5938\n",
            "Epoch 8/100\n",
            "18/18 [==============================] - 0s 3ms/step - loss: 1.7920 - accuracy: 0.6233 - val_loss: 1.4879 - val_accuracy: 0.5885\n",
            "Epoch 9/100\n",
            "18/18 [==============================] - 0s 3ms/step - loss: 1.6374 - accuracy: 0.6198 - val_loss: 1.3648 - val_accuracy: 0.6146\n",
            "Epoch 10/100\n",
            "18/18 [==============================] - 0s 4ms/step - loss: 1.4947 - accuracy: 0.6389 - val_loss: 1.2576 - val_accuracy: 0.6510\n",
            "Epoch 11/100\n",
            "18/18 [==============================] - 0s 3ms/step - loss: 1.3934 - accuracy: 0.6476 - val_loss: 1.1695 - val_accuracy: 0.6875\n",
            "Epoch 12/100\n",
            "18/18 [==============================] - 0s 3ms/step - loss: 1.3161 - accuracy: 0.6406 - val_loss: 1.1197 - val_accuracy: 0.6719\n",
            "Epoch 13/100\n",
            "18/18 [==============================] - 0s 3ms/step - loss: 1.2506 - accuracy: 0.6632 - val_loss: 1.0906 - val_accuracy: 0.6771\n",
            "Epoch 14/100\n",
            "18/18 [==============================] - 0s 3ms/step - loss: 1.2033 - accuracy: 0.6528 - val_loss: 1.0488 - val_accuracy: 0.6823\n",
            "Epoch 15/100\n",
            "18/18 [==============================] - 0s 3ms/step - loss: 1.1542 - accuracy: 0.6528 - val_loss: 1.0006 - val_accuracy: 0.7083\n",
            "Epoch 16/100\n",
            "18/18 [==============================] - 0s 3ms/step - loss: 1.1170 - accuracy: 0.6510 - val_loss: 0.9735 - val_accuracy: 0.6875\n",
            "Epoch 17/100\n",
            "18/18 [==============================] - 0s 3ms/step - loss: 1.0589 - accuracy: 0.6458 - val_loss: 0.9594 - val_accuracy: 0.6927\n",
            "Epoch 18/100\n",
            "18/18 [==============================] - 0s 3ms/step - loss: 1.0173 - accuracy: 0.6597 - val_loss: 0.9481 - val_accuracy: 0.7083\n",
            "Epoch 19/100\n",
            "18/18 [==============================] - 0s 4ms/step - loss: 0.9887 - accuracy: 0.6667 - val_loss: 0.8946 - val_accuracy: 0.7240\n",
            "Epoch 20/100\n",
            "18/18 [==============================] - 0s 3ms/step - loss: 0.9549 - accuracy: 0.6597 - val_loss: 0.9244 - val_accuracy: 0.6562\n",
            "Epoch 21/100\n",
            "18/18 [==============================] - 0s 3ms/step - loss: 0.9207 - accuracy: 0.6753 - val_loss: 0.8783 - val_accuracy: 0.6458\n",
            "Epoch 22/100\n",
            "18/18 [==============================] - 0s 4ms/step - loss: 0.8956 - accuracy: 0.6597 - val_loss: 0.8249 - val_accuracy: 0.7135\n",
            "Epoch 23/100\n",
            "18/18 [==============================] - 0s 3ms/step - loss: 0.8673 - accuracy: 0.6597 - val_loss: 0.8291 - val_accuracy: 0.7031\n",
            "Epoch 24/100\n",
            "18/18 [==============================] - 0s 3ms/step - loss: 0.8419 - accuracy: 0.6684 - val_loss: 0.8031 - val_accuracy: 0.7083\n",
            "Epoch 25/100\n",
            "18/18 [==============================] - 0s 3ms/step - loss: 0.8313 - accuracy: 0.6493 - val_loss: 0.8315 - val_accuracy: 0.6510\n",
            "Epoch 26/100\n",
            "18/18 [==============================] - 0s 3ms/step - loss: 0.8124 - accuracy: 0.6788 - val_loss: 0.8482 - val_accuracy: 0.5990\n",
            "Epoch 27/100\n",
            "18/18 [==============================] - 0s 3ms/step - loss: 0.7924 - accuracy: 0.6684 - val_loss: 0.8164 - val_accuracy: 0.6979\n",
            "Epoch 28/100\n",
            "18/18 [==============================] - 0s 4ms/step - loss: 0.7827 - accuracy: 0.6719 - val_loss: 0.7682 - val_accuracy: 0.6823\n",
            "Epoch 29/100\n",
            "18/18 [==============================] - 0s 4ms/step - loss: 0.7769 - accuracy: 0.6580 - val_loss: 0.7598 - val_accuracy: 0.6615\n",
            "Epoch 30/100\n",
            "18/18 [==============================] - 0s 4ms/step - loss: 0.7587 - accuracy: 0.6736 - val_loss: 0.7572 - val_accuracy: 0.6562\n",
            "Epoch 31/100\n",
            "18/18 [==============================] - 0s 4ms/step - loss: 0.7429 - accuracy: 0.6997 - val_loss: 0.7520 - val_accuracy: 0.6667\n",
            "Epoch 32/100\n",
            "18/18 [==============================] - 0s 3ms/step - loss: 0.7417 - accuracy: 0.6753 - val_loss: 0.7283 - val_accuracy: 0.7031\n",
            "Epoch 33/100\n",
            "18/18 [==============================] - 0s 4ms/step - loss: 0.7324 - accuracy: 0.6719 - val_loss: 0.7197 - val_accuracy: 0.6927\n",
            "Epoch 34/100\n",
            "18/18 [==============================] - 0s 3ms/step - loss: 0.7071 - accuracy: 0.7014 - val_loss: 0.7122 - val_accuracy: 0.6979\n",
            "Epoch 35/100\n",
            "18/18 [==============================] - 0s 3ms/step - loss: 0.7195 - accuracy: 0.6875 - val_loss: 0.7226 - val_accuracy: 0.6719\n",
            "Epoch 36/100\n",
            "18/18 [==============================] - 0s 3ms/step - loss: 0.7069 - accuracy: 0.6927 - val_loss: 0.7055 - val_accuracy: 0.7135\n",
            "Epoch 37/100\n",
            "18/18 [==============================] - 0s 3ms/step - loss: 0.6973 - accuracy: 0.6858 - val_loss: 0.6932 - val_accuracy: 0.6823\n",
            "Epoch 38/100\n",
            "18/18 [==============================] - 0s 3ms/step - loss: 0.6904 - accuracy: 0.6823 - val_loss: 0.6921 - val_accuracy: 0.7083\n",
            "Epoch 39/100\n",
            "18/18 [==============================] - 0s 3ms/step - loss: 0.6818 - accuracy: 0.6962 - val_loss: 0.6911 - val_accuracy: 0.6771\n",
            "Epoch 40/100\n",
            "18/18 [==============================] - 0s 4ms/step - loss: 0.6777 - accuracy: 0.6979 - val_loss: 0.6841 - val_accuracy: 0.6927\n",
            "Epoch 41/100\n",
            "18/18 [==============================] - 0s 4ms/step - loss: 0.6767 - accuracy: 0.6875 - val_loss: 0.6834 - val_accuracy: 0.7083\n",
            "Epoch 42/100\n",
            "18/18 [==============================] - 0s 4ms/step - loss: 0.6553 - accuracy: 0.6910 - val_loss: 0.6926 - val_accuracy: 0.6823\n",
            "Epoch 43/100\n",
            "18/18 [==============================] - 0s 4ms/step - loss: 0.6690 - accuracy: 0.6927 - val_loss: 0.6712 - val_accuracy: 0.6979\n",
            "Epoch 44/100\n",
            "18/18 [==============================] - 0s 4ms/step - loss: 0.6494 - accuracy: 0.7066 - val_loss: 0.6871 - val_accuracy: 0.6927\n",
            "Epoch 45/100\n",
            "18/18 [==============================] - 0s 3ms/step - loss: 0.6520 - accuracy: 0.6823 - val_loss: 0.6928 - val_accuracy: 0.6667\n",
            "Epoch 46/100\n",
            "18/18 [==============================] - 0s 4ms/step - loss: 0.6422 - accuracy: 0.6927 - val_loss: 0.6755 - val_accuracy: 0.6823\n",
            "Epoch 47/100\n",
            "18/18 [==============================] - 0s 4ms/step - loss: 0.6467 - accuracy: 0.6823 - val_loss: 0.7128 - val_accuracy: 0.6250\n",
            "Epoch 48/100\n",
            "18/18 [==============================] - 0s 3ms/step - loss: 0.6439 - accuracy: 0.7101 - val_loss: 0.6804 - val_accuracy: 0.6719\n",
            "Epoch 49/100\n",
            "18/18 [==============================] - 0s 3ms/step - loss: 0.6332 - accuracy: 0.6823 - val_loss: 0.6742 - val_accuracy: 0.6875\n",
            "Epoch 50/100\n",
            "18/18 [==============================] - 0s 4ms/step - loss: 0.6240 - accuracy: 0.7118 - val_loss: 0.6761 - val_accuracy: 0.6615\n",
            "Epoch 51/100\n",
            "18/18 [==============================] - 0s 4ms/step - loss: 0.6287 - accuracy: 0.6944 - val_loss: 0.6574 - val_accuracy: 0.6823\n",
            "Epoch 52/100\n",
            "18/18 [==============================] - 0s 4ms/step - loss: 0.6409 - accuracy: 0.7101 - val_loss: 0.6536 - val_accuracy: 0.6927\n",
            "Epoch 53/100\n",
            "18/18 [==============================] - 0s 3ms/step - loss: 0.6194 - accuracy: 0.7031 - val_loss: 0.6499 - val_accuracy: 0.7031\n",
            "Epoch 54/100\n",
            "18/18 [==============================] - 0s 4ms/step - loss: 0.6237 - accuracy: 0.6944 - val_loss: 0.6587 - val_accuracy: 0.6823\n",
            "Epoch 55/100\n",
            "18/18 [==============================] - 0s 4ms/step - loss: 0.6290 - accuracy: 0.7049 - val_loss: 0.6986 - val_accuracy: 0.6458\n",
            "Epoch 56/100\n",
            "18/18 [==============================] - 0s 4ms/step - loss: 0.6224 - accuracy: 0.7049 - val_loss: 0.6464 - val_accuracy: 0.6979\n",
            "Epoch 57/100\n",
            "18/18 [==============================] - 0s 4ms/step - loss: 0.6173 - accuracy: 0.7083 - val_loss: 0.6510 - val_accuracy: 0.6875\n",
            "Epoch 58/100\n",
            "18/18 [==============================] - 0s 4ms/step - loss: 0.6122 - accuracy: 0.6962 - val_loss: 0.6433 - val_accuracy: 0.7031\n",
            "Epoch 59/100\n",
            "18/18 [==============================] - 0s 3ms/step - loss: 0.6183 - accuracy: 0.6927 - val_loss: 0.6435 - val_accuracy: 0.6927\n",
            "Epoch 60/100\n",
            "18/18 [==============================] - 0s 4ms/step - loss: 0.6010 - accuracy: 0.7153 - val_loss: 0.6486 - val_accuracy: 0.6875\n",
            "Epoch 61/100\n",
            "18/18 [==============================] - 0s 3ms/step - loss: 0.6099 - accuracy: 0.6962 - val_loss: 0.6647 - val_accuracy: 0.6719\n",
            "Epoch 62/100\n",
            "18/18 [==============================] - 0s 3ms/step - loss: 0.6104 - accuracy: 0.6962 - val_loss: 0.6408 - val_accuracy: 0.7083\n",
            "Epoch 63/100\n",
            "18/18 [==============================] - 0s 4ms/step - loss: 0.6019 - accuracy: 0.7153 - val_loss: 0.6800 - val_accuracy: 0.6667\n",
            "Epoch 64/100\n",
            "18/18 [==============================] - 0s 3ms/step - loss: 0.6084 - accuracy: 0.6858 - val_loss: 0.6546 - val_accuracy: 0.7031\n",
            "Epoch 65/100\n",
            "18/18 [==============================] - 0s 4ms/step - loss: 0.6037 - accuracy: 0.7066 - val_loss: 0.6458 - val_accuracy: 0.6510\n",
            "Epoch 66/100\n",
            "18/18 [==============================] - 0s 3ms/step - loss: 0.6000 - accuracy: 0.7083 - val_loss: 0.6589 - val_accuracy: 0.6615\n",
            "Epoch 67/100\n",
            "18/18 [==============================] - 0s 4ms/step - loss: 0.5993 - accuracy: 0.6892 - val_loss: 0.6828 - val_accuracy: 0.6510\n",
            "Epoch 68/100\n",
            "18/18 [==============================] - 0s 4ms/step - loss: 0.6112 - accuracy: 0.7014 - val_loss: 0.6279 - val_accuracy: 0.6979\n",
            "Epoch 69/100\n",
            "18/18 [==============================] - 0s 4ms/step - loss: 0.5848 - accuracy: 0.6997 - val_loss: 0.6292 - val_accuracy: 0.6771\n",
            "Epoch 70/100\n",
            "18/18 [==============================] - 0s 3ms/step - loss: 0.5897 - accuracy: 0.7135 - val_loss: 0.6254 - val_accuracy: 0.7083\n",
            "Epoch 71/100\n",
            "18/18 [==============================] - 0s 4ms/step - loss: 0.5969 - accuracy: 0.7274 - val_loss: 0.6345 - val_accuracy: 0.6615\n",
            "Epoch 72/100\n",
            "18/18 [==============================] - 0s 3ms/step - loss: 0.6020 - accuracy: 0.6840 - val_loss: 0.6418 - val_accuracy: 0.6562\n",
            "Epoch 73/100\n",
            "18/18 [==============================] - 0s 3ms/step - loss: 0.5871 - accuracy: 0.7066 - val_loss: 0.7412 - val_accuracy: 0.6146\n",
            "Epoch 74/100\n",
            "18/18 [==============================] - 0s 3ms/step - loss: 0.5983 - accuracy: 0.6979 - val_loss: 0.6213 - val_accuracy: 0.6927\n",
            "Epoch 75/100\n",
            "18/18 [==============================] - 0s 3ms/step - loss: 0.5891 - accuracy: 0.7014 - val_loss: 0.6330 - val_accuracy: 0.6823\n",
            "Epoch 76/100\n",
            "18/18 [==============================] - 0s 4ms/step - loss: 0.6009 - accuracy: 0.6979 - val_loss: 0.6259 - val_accuracy: 0.6927\n",
            "Epoch 77/100\n",
            "18/18 [==============================] - 0s 4ms/step - loss: 0.5886 - accuracy: 0.7188 - val_loss: 0.6392 - val_accuracy: 0.6615\n",
            "Epoch 78/100\n",
            "18/18 [==============================] - 0s 3ms/step - loss: 0.5872 - accuracy: 0.7118 - val_loss: 0.6157 - val_accuracy: 0.6979\n",
            "Epoch 79/100\n",
            "18/18 [==============================] - 0s 3ms/step - loss: 0.5861 - accuracy: 0.7101 - val_loss: 0.6125 - val_accuracy: 0.7031\n",
            "Epoch 80/100\n",
            "18/18 [==============================] - 0s 3ms/step - loss: 0.5844 - accuracy: 0.7083 - val_loss: 0.6137 - val_accuracy: 0.6979\n",
            "Epoch 81/100\n",
            "18/18 [==============================] - 0s 3ms/step - loss: 0.5907 - accuracy: 0.7049 - val_loss: 0.6189 - val_accuracy: 0.6979\n",
            "Epoch 82/100\n",
            "18/18 [==============================] - 0s 3ms/step - loss: 0.5872 - accuracy: 0.7135 - val_loss: 0.6258 - val_accuracy: 0.6719\n",
            "Epoch 83/100\n",
            "18/18 [==============================] - 0s 4ms/step - loss: 0.5866 - accuracy: 0.7014 - val_loss: 0.6098 - val_accuracy: 0.6875\n",
            "Epoch 84/100\n",
            "18/18 [==============================] - 0s 3ms/step - loss: 0.5861 - accuracy: 0.7153 - val_loss: 0.6102 - val_accuracy: 0.6979\n",
            "Epoch 85/100\n",
            "18/18 [==============================] - 0s 3ms/step - loss: 0.5868 - accuracy: 0.7031 - val_loss: 0.6180 - val_accuracy: 0.6875\n",
            "Epoch 86/100\n",
            "18/18 [==============================] - 0s 3ms/step - loss: 0.5770 - accuracy: 0.7170 - val_loss: 0.6041 - val_accuracy: 0.7031\n",
            "Epoch 87/100\n",
            "18/18 [==============================] - 0s 3ms/step - loss: 0.5874 - accuracy: 0.7135 - val_loss: 0.6043 - val_accuracy: 0.7031\n",
            "Epoch 88/100\n",
            "18/18 [==============================] - 0s 3ms/step - loss: 0.5747 - accuracy: 0.7188 - val_loss: 0.6027 - val_accuracy: 0.6979\n",
            "Epoch 89/100\n",
            "18/18 [==============================] - 0s 4ms/step - loss: 0.5866 - accuracy: 0.6979 - val_loss: 0.6044 - val_accuracy: 0.7031\n",
            "Epoch 90/100\n",
            "18/18 [==============================] - 0s 4ms/step - loss: 0.5842 - accuracy: 0.7222 - val_loss: 0.6040 - val_accuracy: 0.7031\n",
            "Epoch 91/100\n",
            "18/18 [==============================] - 0s 3ms/step - loss: 0.5746 - accuracy: 0.7083 - val_loss: 0.6439 - val_accuracy: 0.6823\n",
            "Epoch 92/100\n",
            "18/18 [==============================] - 0s 3ms/step - loss: 0.5815 - accuracy: 0.7205 - val_loss: 0.6011 - val_accuracy: 0.7031\n",
            "Epoch 93/100\n",
            "18/18 [==============================] - 0s 4ms/step - loss: 0.5808 - accuracy: 0.7153 - val_loss: 0.6003 - val_accuracy: 0.7031\n",
            "Epoch 94/100\n",
            "18/18 [==============================] - 0s 3ms/step - loss: 0.5773 - accuracy: 0.7188 - val_loss: 0.7305 - val_accuracy: 0.6146\n",
            "Epoch 95/100\n",
            "18/18 [==============================] - 0s 3ms/step - loss: 0.5766 - accuracy: 0.7101 - val_loss: 0.5991 - val_accuracy: 0.6927\n",
            "Epoch 96/100\n",
            "18/18 [==============================] - 0s 3ms/step - loss: 0.5708 - accuracy: 0.7101 - val_loss: 0.6112 - val_accuracy: 0.6875\n",
            "Epoch 97/100\n",
            "18/18 [==============================] - 0s 3ms/step - loss: 0.5666 - accuracy: 0.7205 - val_loss: 0.6242 - val_accuracy: 0.6875\n",
            "Epoch 98/100\n",
            "18/18 [==============================] - 0s 3ms/step - loss: 0.5920 - accuracy: 0.6979 - val_loss: 0.6003 - val_accuracy: 0.6719\n",
            "Epoch 99/100\n",
            "18/18 [==============================] - 0s 3ms/step - loss: 0.5751 - accuracy: 0.7066 - val_loss: 0.5961 - val_accuracy: 0.6979\n",
            "Epoch 100/100\n",
            "18/18 [==============================] - 0s 3ms/step - loss: 0.5715 - accuracy: 0.7153 - val_loss: 0.6001 - val_accuracy: 0.6771\n"
          ]
        }
      ]
    },
    {
      "cell_type": "code",
      "metadata": {
        "colab": {
          "base_uri": "https://localhost:8080/",
          "height": 205
        },
        "id": "KEwx0KjyJVoQ",
        "outputId": "41b08057-a203-4c0f-e1a8-5a124243e73c"
      },
      "source": [
        "res=pd.DataFrame(h1.history)\n",
        "res['Epochs']=range(1,101)\n",
        "res.tail()"
      ],
      "execution_count": null,
      "outputs": [
        {
          "output_type": "execute_result",
          "data": {
            "text/html": [
              "<div>\n",
              "<style scoped>\n",
              "    .dataframe tbody tr th:only-of-type {\n",
              "        vertical-align: middle;\n",
              "    }\n",
              "\n",
              "    .dataframe tbody tr th {\n",
              "        vertical-align: top;\n",
              "    }\n",
              "\n",
              "    .dataframe thead th {\n",
              "        text-align: right;\n",
              "    }\n",
              "</style>\n",
              "<table border=\"1\" class=\"dataframe\">\n",
              "  <thead>\n",
              "    <tr style=\"text-align: right;\">\n",
              "      <th></th>\n",
              "      <th>loss</th>\n",
              "      <th>accuracy</th>\n",
              "      <th>val_loss</th>\n",
              "      <th>val_accuracy</th>\n",
              "      <th>Epochs</th>\n",
              "    </tr>\n",
              "  </thead>\n",
              "  <tbody>\n",
              "    <tr>\n",
              "      <th>95</th>\n",
              "      <td>0.570833</td>\n",
              "      <td>0.710069</td>\n",
              "      <td>0.611192</td>\n",
              "      <td>0.687500</td>\n",
              "      <td>96</td>\n",
              "    </tr>\n",
              "    <tr>\n",
              "      <th>96</th>\n",
              "      <td>0.566596</td>\n",
              "      <td>0.720486</td>\n",
              "      <td>0.624186</td>\n",
              "      <td>0.687500</td>\n",
              "      <td>97</td>\n",
              "    </tr>\n",
              "    <tr>\n",
              "      <th>97</th>\n",
              "      <td>0.592049</td>\n",
              "      <td>0.697917</td>\n",
              "      <td>0.600321</td>\n",
              "      <td>0.671875</td>\n",
              "      <td>98</td>\n",
              "    </tr>\n",
              "    <tr>\n",
              "      <th>98</th>\n",
              "      <td>0.575130</td>\n",
              "      <td>0.706597</td>\n",
              "      <td>0.596107</td>\n",
              "      <td>0.697917</td>\n",
              "      <td>99</td>\n",
              "    </tr>\n",
              "    <tr>\n",
              "      <th>99</th>\n",
              "      <td>0.571506</td>\n",
              "      <td>0.715278</td>\n",
              "      <td>0.600130</td>\n",
              "      <td>0.677083</td>\n",
              "      <td>100</td>\n",
              "    </tr>\n",
              "  </tbody>\n",
              "</table>\n",
              "</div>"
            ],
            "text/plain": [
              "        loss  accuracy  val_loss  val_accuracy  Epochs\n",
              "95  0.570833  0.710069  0.611192      0.687500      96\n",
              "96  0.566596  0.720486  0.624186      0.687500      97\n",
              "97  0.592049  0.697917  0.600321      0.671875      98\n",
              "98  0.575130  0.706597  0.596107      0.697917      99\n",
              "99  0.571506  0.715278  0.600130      0.677083     100"
            ]
          },
          "metadata": {},
          "execution_count": 34
        }
      ]
    },
    {
      "cell_type": "code",
      "metadata": {
        "colab": {
          "base_uri": "https://localhost:8080/",
          "height": 281
        },
        "id": "kvYhr9vjJYh3",
        "outputId": "32fb953c-f5ce-481f-eda8-e2de601333c7"
      },
      "source": [
        "plt.plot(res['Epochs'],res['loss'],label='Training Loss')\n",
        "plt.plot(res['Epochs'],res['val_loss'],label='Testing Loss')\n",
        "plt.title('Training Vs Testing Loss')\n",
        "plt.legend()\n",
        "plt.show()"
      ],
      "execution_count": null,
      "outputs": [
        {
          "output_type": "display_data",
          "data": {
            "image/png": "[encoded data removed]",
            "text/plain": [
              "<Figure size 432x288 with 1 Axes>"
            ]
          },
          "metadata": {
            "needs_background": "light"
          }
        }
      ]
    },
    {
      "cell_type": "code",
      "metadata": {
        "colab": {
          "base_uri": "https://localhost:8080/"
        },
        "id": "2CRZD0dvJwpP",
        "outputId": "dc8c7d34-6e60-4829-bba6-3fd1941f0a85"
      },
      "source": [
        "y_pred=mod.predict(x_test)\n",
        "y_pred[:5]"
      ],
      "execution_count": null,
      "outputs": [
        {
          "output_type": "execute_result",
          "data": {
            "text/plain": [
              "array([[0.4078676 , 0.7072828 ],\n",
              "       [0.8707311 , 0.06335908],\n",
              "       [0.6649427 , 0.28916734],\n",
              "       [0.8198362 , 0.09307721],\n",
              "       [0.28951693, 0.59955835]], dtype=float32)"
            ]
          },
          "metadata": {},
          "execution_count": 39
        }
      ]
    },
    {
      "cell_type": "code",
      "metadata": {
        "colab": {
          "base_uri": "https://localhost:8080/"
        },
        "id": "r_EfaHG0J6UB",
        "outputId": "90ed6485-65cf-420c-e038-391f06c8f02e"
      },
      "source": [
        "y_pred=y_pred.argmax(axis=1)\n",
        "y_pred"
      ],
      "execution_count": null,
      "outputs": [
        {
          "output_type": "execute_result",
          "data": {
            "text/plain": [
              "array([1, 0, 0, 0, 1, 1, 0, 1, 0, 0, 0, 0, 0, 1, 1, 0, 0, 0, 0, 0, 1, 0,\n",
              "       0, 1, 0, 0, 0, 0, 0, 0, 1, 1, 0, 1, 0, 0, 0, 0, 1, 0, 1, 1, 0, 0,\n",
              "       0, 0, 1, 0, 1, 0, 0, 0, 1, 0, 1, 0, 0, 1, 0, 1, 0, 0, 0, 0, 1, 0,\n",
              "       0, 1, 0, 0, 0, 0, 0, 0, 0, 0, 0, 1, 1, 0, 0, 0, 0, 0, 0, 0, 0, 0,\n",
              "       1, 1, 1, 0, 0, 0, 0, 1, 1, 0, 0, 0, 1, 0, 1, 1, 0, 0, 1, 0, 1, 0,\n",
              "       0, 0, 0, 0, 1, 0, 0, 1, 0, 0, 1, 1, 1, 1, 0, 1, 1, 0, 0, 1, 1, 1,\n",
              "       0, 0, 0, 0, 0, 1, 1, 1, 1, 1, 0, 0, 1, 0, 0, 0, 1, 1, 1, 0, 1, 1,\n",
              "       1, 0, 1, 1, 0, 0, 0, 0, 0, 0, 0, 0, 0, 0, 0, 0, 1, 0, 0, 1, 0, 0,\n",
              "       0, 0, 0, 1, 0, 1, 0, 1, 0, 1, 1, 0, 1, 1, 0, 0])"
            ]
          },
          "metadata": {},
          "execution_count": 40
        }
      ]
    },
    {
      "cell_type": "code",
      "metadata": {
        "id": "QgI_K0prK4Q_"
      },
      "source": [
        "from sklearn.metrics import classification_report,confusion_matrix"
      ],
      "execution_count": null,
      "outputs": []
    },
    {
      "cell_type": "code",
      "metadata": {
        "colab": {
          "base_uri": "https://localhost:8080/"
        },
        "id": "Ggm7WteRLhXJ",
        "outputId": "70d9bf14-29d8-4fcd-d9ce-766124f894d2"
      },
      "source": [
        "print(confusion_matrix(y_pred,y_test))\n",
        "print(classification_report(y_pred,y_test))"
      ],
      "execution_count": null,
      "outputs": [
        {
          "output_type": "stream",
          "name": "stdout",
          "text": [
            "[[94 30]\n",
            " [32 36]]\n",
            "              precision    recall  f1-score   support\n",
            "\n",
            "           0       0.75      0.76      0.75       124\n",
            "           1       0.55      0.53      0.54        68\n",
            "\n",
            "    accuracy                           0.68       192\n",
            "   macro avg       0.65      0.64      0.64       192\n",
            "weighted avg       0.67      0.68      0.68       192\n",
            "\n"
          ]
        }
      ]
    }
  ]
}