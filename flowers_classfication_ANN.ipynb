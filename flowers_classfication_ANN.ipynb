{
  "nbformat": 4,
  "nbformat_minor": 0,
  "metadata": {
    "colab": {
      "name": "flowers classfication ANN.ipynb",
      "provenance": []
    },
    "kernelspec": {
      "name": "python3",
      "display_name": "Python 3"
    },
    "language_info": {
      "name": "python"
    }
  },
  "cells": [
    {
      "cell_type": "code",
      "metadata": {
        "id": "gXON7RAvXZh_"
      },
      "source": [
        "import numpy as np\n",
        "import pandas as pd\n",
        "import matplotlib.pyplot as plt"
      ],
      "execution_count": null,
      "outputs": []
    },
    {
      "cell_type": "code",
      "metadata": {
        "id": "_lzjj-A9Xq-J"
      },
      "source": [
        " import tensorflow as tf\n",
        "from tensorflow.keras.models import Sequential\n",
        "from tensorflow.keras.layers import Dense"
      ],
      "execution_count": null,
      "outputs": []
    },
    {
      "cell_type": "code",
      "metadata": {
        "id": "cypfDFGZXzrb"
      },
      "source": [
        "df=pd.read_csv('/content/iris.csv')"
      ],
      "execution_count": null,
      "outputs": []
    },
    {
      "cell_type": "code",
      "metadata": {
        "colab": {
          "base_uri": "https://localhost:8080/",
          "height": 205
        },
        "id": "Vq-rzHMWX7-Q",
        "outputId": "fc83f8ce-2c53-43ac-f391-a03473d8dec4"
      },
      "source": [
        "df.head()"
      ],
      "execution_count": null,
      "outputs": [
        {
          "output_type": "execute_result",
          "data": {
            "text/html": [
              "<div>\n",
              "<style scoped>\n",
              "    .dataframe tbody tr th:only-of-type {\n",
              "        vertical-align: middle;\n",
              "    }\n",
              "\n",
              "    .dataframe tbody tr th {\n",
              "        vertical-align: top;\n",
              "    }\n",
              "\n",
              "    .dataframe thead th {\n",
              "        text-align: right;\n",
              "    }\n",
              "</style>\n",
              "<table border=\"1\" class=\"dataframe\">\n",
              "  <thead>\n",
              "    <tr style=\"text-align: right;\">\n",
              "      <th></th>\n",
              "      <th>sepal_length</th>\n",
              "      <th>sepal_width</th>\n",
              "      <th>petal_length</th>\n",
              "      <th>petal_width</th>\n",
              "      <th>label</th>\n",
              "    </tr>\n",
              "  </thead>\n",
              "  <tbody>\n",
              "    <tr>\n",
              "      <th>0</th>\n",
              "      <td>4.9</td>\n",
              "      <td>3.0</td>\n",
              "      <td>1.4</td>\n",
              "      <td>0.2</td>\n",
              "      <td>Iris-setosa</td>\n",
              "    </tr>\n",
              "    <tr>\n",
              "      <th>1</th>\n",
              "      <td>4.7</td>\n",
              "      <td>3.2</td>\n",
              "      <td>1.3</td>\n",
              "      <td>0.2</td>\n",
              "      <td>Iris-setosa</td>\n",
              "    </tr>\n",
              "    <tr>\n",
              "      <th>2</th>\n",
              "      <td>4.6</td>\n",
              "      <td>3.1</td>\n",
              "      <td>1.5</td>\n",
              "      <td>0.2</td>\n",
              "      <td>Iris-setosa</td>\n",
              "    </tr>\n",
              "    <tr>\n",
              "      <th>3</th>\n",
              "      <td>5.0</td>\n",
              "      <td>3.6</td>\n",
              "      <td>1.4</td>\n",
              "      <td>0.2</td>\n",
              "      <td>Iris-setosa</td>\n",
              "    </tr>\n",
              "    <tr>\n",
              "      <th>4</th>\n",
              "      <td>5.4</td>\n",
              "      <td>3.9</td>\n",
              "      <td>1.7</td>\n",
              "      <td>0.4</td>\n",
              "      <td>Iris-setosa</td>\n",
              "    </tr>\n",
              "  </tbody>\n",
              "</table>\n",
              "</div>"
            ],
            "text/plain": [
              "   sepal_length  sepal_width  petal_length  petal_width        label\n",
              "0           4.9          3.0           1.4          0.2  Iris-setosa\n",
              "1           4.7          3.2           1.3          0.2  Iris-setosa\n",
              "2           4.6          3.1           1.5          0.2  Iris-setosa\n",
              "3           5.0          3.6           1.4          0.2  Iris-setosa\n",
              "4           5.4          3.9           1.7          0.4  Iris-setosa"
            ]
          },
          "metadata": {},
          "execution_count": 123
        }
      ]
    },
    {
      "cell_type": "code",
      "metadata": {
        "colab": {
          "base_uri": "https://localhost:8080/"
        },
        "id": "wDaW5JR4X9Nx",
        "outputId": "1687a190-68a0-414f-8dc0-890ae6c4ed46"
      },
      "source": [
        "df.isnull().sum()"
      ],
      "execution_count": null,
      "outputs": [
        {
          "output_type": "execute_result",
          "data": {
            "text/plain": [
              "sepal_length    0\n",
              "sepal_width     0\n",
              "petal_length    0\n",
              "petal_width     0\n",
              "label           0\n",
              "dtype: int64"
            ]
          },
          "metadata": {},
          "execution_count": 124
        }
      ]
    },
    {
      "cell_type": "code",
      "metadata": {
        "id": "NLv_1T_EYCon"
      },
      "source": [
        "from sklearn.preprocessing import LabelEncoder\n",
        "le=LabelEncoder()"
      ],
      "execution_count": null,
      "outputs": []
    },
    {
      "cell_type": "code",
      "metadata": {
        "id": "nQ0usE4KYOZQ"
      },
      "source": [
        "df['label']=le.fit_transform(df['label'])"
      ],
      "execution_count": null,
      "outputs": []
    },
    {
      "cell_type": "code",
      "metadata": {
        "colab": {
          "base_uri": "https://localhost:8080/"
        },
        "id": "WaLBdwzoYJGN",
        "outputId": "10af116f-e3d2-4a41-8ac8-a68e5749433b"
      },
      "source": [
        "df['label'].value_counts()"
      ],
      "execution_count": null,
      "outputs": [
        {
          "output_type": "execute_result",
          "data": {
            "text/plain": [
              "2    50\n",
              "1    50\n",
              "0    49\n",
              "Name: label, dtype: int64"
            ]
          },
          "metadata": {},
          "execution_count": 127
        }
      ]
    },
    {
      "cell_type": "code",
      "metadata": {
        "colab": {
          "base_uri": "https://localhost:8080/",
          "height": 205
        },
        "id": "cThlpjbtYYdG",
        "outputId": "5094c08d-c0fd-4379-b64f-d730c8019ce9"
      },
      "source": [
        "df.head()"
      ],
      "execution_count": null,
      "outputs": [
        {
          "output_type": "execute_result",
          "data": {
            "text/html": [
              "<div>\n",
              "<style scoped>\n",
              "    .dataframe tbody tr th:only-of-type {\n",
              "        vertical-align: middle;\n",
              "    }\n",
              "\n",
              "    .dataframe tbody tr th {\n",
              "        vertical-align: top;\n",
              "    }\n",
              "\n",
              "    .dataframe thead th {\n",
              "        text-align: right;\n",
              "    }\n",
              "</style>\n",
              "<table border=\"1\" class=\"dataframe\">\n",
              "  <thead>\n",
              "    <tr style=\"text-align: right;\">\n",
              "      <th></th>\n",
              "      <th>sepal_length</th>\n",
              "      <th>sepal_width</th>\n",
              "      <th>petal_length</th>\n",
              "      <th>petal_width</th>\n",
              "      <th>label</th>\n",
              "    </tr>\n",
              "  </thead>\n",
              "  <tbody>\n",
              "    <tr>\n",
              "      <th>0</th>\n",
              "      <td>4.9</td>\n",
              "      <td>3.0</td>\n",
              "      <td>1.4</td>\n",
              "      <td>0.2</td>\n",
              "      <td>0</td>\n",
              "    </tr>\n",
              "    <tr>\n",
              "      <th>1</th>\n",
              "      <td>4.7</td>\n",
              "      <td>3.2</td>\n",
              "      <td>1.3</td>\n",
              "      <td>0.2</td>\n",
              "      <td>0</td>\n",
              "    </tr>\n",
              "    <tr>\n",
              "      <th>2</th>\n",
              "      <td>4.6</td>\n",
              "      <td>3.1</td>\n",
              "      <td>1.5</td>\n",
              "      <td>0.2</td>\n",
              "      <td>0</td>\n",
              "    </tr>\n",
              "    <tr>\n",
              "      <th>3</th>\n",
              "      <td>5.0</td>\n",
              "      <td>3.6</td>\n",
              "      <td>1.4</td>\n",
              "      <td>0.2</td>\n",
              "      <td>0</td>\n",
              "    </tr>\n",
              "    <tr>\n",
              "      <th>4</th>\n",
              "      <td>5.4</td>\n",
              "      <td>3.9</td>\n",
              "      <td>1.7</td>\n",
              "      <td>0.4</td>\n",
              "      <td>0</td>\n",
              "    </tr>\n",
              "  </tbody>\n",
              "</table>\n",
              "</div>"
            ],
            "text/plain": [
              "   sepal_length  sepal_width  petal_length  petal_width  label\n",
              "0           4.9          3.0           1.4          0.2      0\n",
              "1           4.7          3.2           1.3          0.2      0\n",
              "2           4.6          3.1           1.5          0.2      0\n",
              "3           5.0          3.6           1.4          0.2      0\n",
              "4           5.4          3.9           1.7          0.4      0"
            ]
          },
          "metadata": {},
          "execution_count": 128
        }
      ]
    },
    {
      "cell_type": "code",
      "metadata": {
        "id": "g9GMY-T8Y18N"
      },
      "source": [
        "x=df.iloc[:,:-1]\n",
        "y=df.iloc[:,-1]"
      ],
      "execution_count": null,
      "outputs": []
    },
    {
      "cell_type": "code",
      "metadata": {
        "id": "5guE5PnJYwLY"
      },
      "source": [
        "from sklearn.model_selection import train_test_split\n",
        "x_train,x_test,y_train,y_test=train_test_split(x,y,test_size=0.2)"
      ],
      "execution_count": null,
      "outputs": []
    },
    {
      "cell_type": "code",
      "metadata": {
        "colab": {
          "base_uri": "https://localhost:8080/"
        },
        "id": "LCDxkyORZLkB",
        "outputId": "86bd0fb0-e591-443c-f5ad-921c5329874c"
      },
      "source": [
        "print(x_train.shape)\n",
        "print(x_test.shape)\n",
        "print(y_test.shape)\n",
        "print(y_train.shape)"
      ],
      "execution_count": null,
      "outputs": [
        {
          "output_type": "stream",
          "name": "stdout",
          "text": [
            "(119, 4)\n",
            "(30, 4)\n",
            "(30,)\n",
            "(119,)\n"
          ]
        }
      ]
    },
    {
      "cell_type": "code",
      "metadata": {
        "id": "E56Umfi_ajXu"
      },
      "source": [
        "from tensorflow.keras.utils import to_categorical"
      ],
      "execution_count": null,
      "outputs": []
    },
    {
      "cell_type": "code",
      "metadata": {
        "id": "gV1aNdN1aurg"
      },
      "source": [
        "y_train=to_categorical(y_train)\n",
        "y_test1=to_categorical(y_test)"
      ],
      "execution_count": null,
      "outputs": []
    },
    {
      "cell_type": "code",
      "metadata": {
        "id": "w2bMb8EBYgiR"
      },
      "source": [
        "mod=Sequential()\n",
        "mod.add(Dense(10,activation='relu',input_dim=4))\n",
        "# mod.add(Dense(8,activation='relu'))\n",
        "mod.add(Dense(3,activation='softmax'))"
      ],
      "execution_count": null,
      "outputs": []
    },
    {
      "cell_type": "code",
      "metadata": {
        "id": "sJDme302Zrw3"
      },
      "source": [
        "mod.compile(optimizer= 'adam',loss='categorical_crossentropy',metrics=['accuracy'])"
      ],
      "execution_count": null,
      "outputs": []
    },
    {
      "cell_type": "code",
      "metadata": {
        "id": "JUCv36S0aJ7w",
        "colab": {
          "base_uri": "https://localhost:8080/"
        },
        "outputId": "118ce599-2309-46c4-9aa7-fe9b7da02b4e"
      },
      "source": [
        "h1=mod.fit(x_train,y_train,epochs=200,validation_data=(x_test,y_test1))"
      ],
      "execution_count": null,
      "outputs": [
        {
          "output_type": "stream",
          "name": "stdout",
          "text": [
            "Epoch 1/200\n",
            "4/4 [==============================] - 1s 60ms/step - loss: 2.2880 - accuracy: 0.3193 - val_loss: 2.0797 - val_accuracy: 0.3667\n",
            "Epoch 2/200\n",
            "4/4 [==============================] - 0s 8ms/step - loss: 2.1484 - accuracy: 0.3193 - val_loss: 1.9570 - val_accuracy: 0.3667\n",
            "Epoch 3/200\n",
            "4/4 [==============================] - 0s 8ms/step - loss: 2.0213 - accuracy: 0.3193 - val_loss: 1.8407 - val_accuracy: 0.3667\n",
            "Epoch 4/200\n",
            "4/4 [==============================] - 0s 8ms/step - loss: 1.8932 - accuracy: 0.3193 - val_loss: 1.7321 - val_accuracy: 0.3667\n",
            "Epoch 5/200\n",
            "4/4 [==============================] - 0s 8ms/step - loss: 1.7786 - accuracy: 0.3193 - val_loss: 1.6257 - val_accuracy: 0.3667\n",
            "Epoch 6/200\n",
            "4/4 [==============================] - 0s 8ms/step - loss: 1.6692 - accuracy: 0.3193 - val_loss: 1.5225 - val_accuracy: 0.3667\n",
            "Epoch 7/200\n",
            "4/4 [==============================] - 0s 9ms/step - loss: 1.5606 - accuracy: 0.3193 - val_loss: 1.4247 - val_accuracy: 0.3667\n",
            "Epoch 8/200\n",
            "4/4 [==============================] - 0s 10ms/step - loss: 1.4550 - accuracy: 0.3193 - val_loss: 1.3336 - val_accuracy: 0.3667\n",
            "Epoch 9/200\n",
            "4/4 [==============================] - 0s 11ms/step - loss: 1.3611 - accuracy: 0.3193 - val_loss: 1.2487 - val_accuracy: 0.3667\n",
            "Epoch 10/200\n",
            "4/4 [==============================] - 0s 9ms/step - loss: 1.2673 - accuracy: 0.3193 - val_loss: 1.1715 - val_accuracy: 0.3667\n",
            "Epoch 11/200\n",
            "4/4 [==============================] - 0s 9ms/step - loss: 1.1926 - accuracy: 0.3445 - val_loss: 1.1011 - val_accuracy: 0.3667\n",
            "Epoch 12/200\n",
            "4/4 [==============================] - 0s 9ms/step - loss: 1.1211 - accuracy: 0.3697 - val_loss: 1.0402 - val_accuracy: 0.3667\n",
            "Epoch 13/200\n",
            "4/4 [==============================] - 0s 10ms/step - loss: 1.0574 - accuracy: 0.4202 - val_loss: 0.9885 - val_accuracy: 0.4667\n",
            "Epoch 14/200\n",
            "4/4 [==============================] - 0s 9ms/step - loss: 1.0033 - accuracy: 0.4874 - val_loss: 0.9450 - val_accuracy: 0.5333\n",
            "Epoch 15/200\n",
            "4/4 [==============================] - 0s 8ms/step - loss: 0.9630 - accuracy: 0.5126 - val_loss: 0.9079 - val_accuracy: 0.6333\n",
            "Epoch 16/200\n",
            "4/4 [==============================] - 0s 8ms/step - loss: 0.9237 - accuracy: 0.5630 - val_loss: 0.8782 - val_accuracy: 0.6667\n",
            "Epoch 17/200\n",
            "4/4 [==============================] - 0s 8ms/step - loss: 0.8940 - accuracy: 0.6218 - val_loss: 0.8543 - val_accuracy: 0.6667\n",
            "Epoch 18/200\n",
            "4/4 [==============================] - 0s 10ms/step - loss: 0.8694 - accuracy: 0.6555 - val_loss: 0.8349 - val_accuracy: 0.6667\n",
            "Epoch 19/200\n",
            "4/4 [==============================] - 0s 8ms/step - loss: 0.8494 - accuracy: 0.6639 - val_loss: 0.8185 - val_accuracy: 0.6667\n",
            "Epoch 20/200\n",
            "4/4 [==============================] - 0s 7ms/step - loss: 0.8337 - accuracy: 0.6639 - val_loss: 0.8050 - val_accuracy: 0.6667\n",
            "Epoch 21/200\n",
            "4/4 [==============================] - 0s 9ms/step - loss: 0.8196 - accuracy: 0.6639 - val_loss: 0.7935 - val_accuracy: 0.6667\n",
            "Epoch 22/200\n",
            "4/4 [==============================] - 0s 12ms/step - loss: 0.8078 - accuracy: 0.6639 - val_loss: 0.7838 - val_accuracy: 0.6667\n",
            "Epoch 23/200\n",
            "4/4 [==============================] - 0s 9ms/step - loss: 0.7991 - accuracy: 0.6639 - val_loss: 0.7752 - val_accuracy: 0.6667\n",
            "Epoch 24/200\n",
            "4/4 [==============================] - 0s 9ms/step - loss: 0.7905 - accuracy: 0.6639 - val_loss: 0.7676 - val_accuracy: 0.6667\n",
            "Epoch 25/200\n",
            "4/4 [==============================] - 0s 12ms/step - loss: 0.7835 - accuracy: 0.6639 - val_loss: 0.7609 - val_accuracy: 0.6667\n",
            "Epoch 26/200\n",
            "4/4 [==============================] - 0s 9ms/step - loss: 0.7769 - accuracy: 0.6639 - val_loss: 0.7545 - val_accuracy: 0.6667\n",
            "Epoch 27/200\n",
            "4/4 [==============================] - 0s 8ms/step - loss: 0.7702 - accuracy: 0.6639 - val_loss: 0.7483 - val_accuracy: 0.6667\n",
            "Epoch 28/200\n",
            "4/4 [==============================] - 0s 8ms/step - loss: 0.7639 - accuracy: 0.6639 - val_loss: 0.7423 - val_accuracy: 0.6667\n",
            "Epoch 29/200\n",
            "4/4 [==============================] - 0s 8ms/step - loss: 0.7579 - accuracy: 0.6639 - val_loss: 0.7369 - val_accuracy: 0.6667\n",
            "Epoch 30/200\n",
            "4/4 [==============================] - 0s 8ms/step - loss: 0.7522 - accuracy: 0.6639 - val_loss: 0.7313 - val_accuracy: 0.6667\n",
            "Epoch 31/200\n",
            "4/4 [==============================] - 0s 8ms/step - loss: 0.7465 - accuracy: 0.6639 - val_loss: 0.7257 - val_accuracy: 0.6667\n",
            "Epoch 32/200\n",
            "4/4 [==============================] - 0s 8ms/step - loss: 0.7407 - accuracy: 0.6639 - val_loss: 0.7198 - val_accuracy: 0.6667\n",
            "Epoch 33/200\n",
            "4/4 [==============================] - 0s 12ms/step - loss: 0.7351 - accuracy: 0.6639 - val_loss: 0.7139 - val_accuracy: 0.6667\n",
            "Epoch 34/200\n",
            "4/4 [==============================] - 0s 8ms/step - loss: 0.7296 - accuracy: 0.6639 - val_loss: 0.7080 - val_accuracy: 0.6667\n",
            "Epoch 35/200\n",
            "4/4 [==============================] - 0s 13ms/step - loss: 0.7237 - accuracy: 0.6639 - val_loss: 0.7019 - val_accuracy: 0.6667\n",
            "Epoch 36/200\n",
            "4/4 [==============================] - 0s 8ms/step - loss: 0.7180 - accuracy: 0.6639 - val_loss: 0.6958 - val_accuracy: 0.6667\n",
            "Epoch 37/200\n",
            "4/4 [==============================] - 0s 9ms/step - loss: 0.7123 - accuracy: 0.6639 - val_loss: 0.6896 - val_accuracy: 0.6667\n",
            "Epoch 38/200\n",
            "4/4 [==============================] - 0s 9ms/step - loss: 0.7067 - accuracy: 0.6639 - val_loss: 0.6835 - val_accuracy: 0.6667\n",
            "Epoch 39/200\n",
            "4/4 [==============================] - 0s 9ms/step - loss: 0.7007 - accuracy: 0.6639 - val_loss: 0.6773 - val_accuracy: 0.6667\n",
            "Epoch 40/200\n",
            "4/4 [==============================] - 0s 11ms/step - loss: 0.6950 - accuracy: 0.6639 - val_loss: 0.6713 - val_accuracy: 0.6667\n",
            "Epoch 41/200\n",
            "4/4 [==============================] - 0s 9ms/step - loss: 0.6892 - accuracy: 0.6639 - val_loss: 0.6652 - val_accuracy: 0.6667\n",
            "Epoch 42/200\n",
            "4/4 [==============================] - 0s 17ms/step - loss: 0.6833 - accuracy: 0.6639 - val_loss: 0.6591 - val_accuracy: 0.6667\n",
            "Epoch 43/200\n",
            "4/4 [==============================] - 0s 9ms/step - loss: 0.6777 - accuracy: 0.6639 - val_loss: 0.6529 - val_accuracy: 0.6667\n",
            "Epoch 44/200\n",
            "4/4 [==============================] - 0s 9ms/step - loss: 0.6719 - accuracy: 0.6639 - val_loss: 0.6467 - val_accuracy: 0.6667\n",
            "Epoch 45/200\n",
            "4/4 [==============================] - 0s 13ms/step - loss: 0.6662 - accuracy: 0.6639 - val_loss: 0.6407 - val_accuracy: 0.6667\n",
            "Epoch 46/200\n",
            "4/4 [==============================] - 0s 11ms/step - loss: 0.6605 - accuracy: 0.6639 - val_loss: 0.6348 - val_accuracy: 0.6667\n",
            "Epoch 47/200\n",
            "4/4 [==============================] - 0s 8ms/step - loss: 0.6548 - accuracy: 0.6639 - val_loss: 0.6290 - val_accuracy: 0.6667\n",
            "Epoch 48/200\n",
            "4/4 [==============================] - 0s 8ms/step - loss: 0.6495 - accuracy: 0.6639 - val_loss: 0.6233 - val_accuracy: 0.6667\n",
            "Epoch 49/200\n",
            "4/4 [==============================] - 0s 8ms/step - loss: 0.6440 - accuracy: 0.6639 - val_loss: 0.6175 - val_accuracy: 0.6667\n",
            "Epoch 50/200\n",
            "4/4 [==============================] - 0s 9ms/step - loss: 0.6384 - accuracy: 0.6639 - val_loss: 0.6117 - val_accuracy: 0.6667\n",
            "Epoch 51/200\n",
            "4/4 [==============================] - 0s 9ms/step - loss: 0.6334 - accuracy: 0.6639 - val_loss: 0.6063 - val_accuracy: 0.6667\n",
            "Epoch 52/200\n",
            "4/4 [==============================] - 0s 10ms/step - loss: 0.6280 - accuracy: 0.6639 - val_loss: 0.6010 - val_accuracy: 0.6667\n",
            "Epoch 53/200\n",
            "4/4 [==============================] - 0s 13ms/step - loss: 0.6226 - accuracy: 0.6639 - val_loss: 0.5956 - val_accuracy: 0.6667\n",
            "Epoch 54/200\n",
            "4/4 [==============================] - 0s 10ms/step - loss: 0.6176 - accuracy: 0.6891 - val_loss: 0.5902 - val_accuracy: 0.7000\n",
            "Epoch 55/200\n",
            "4/4 [==============================] - 0s 9ms/step - loss: 0.6127 - accuracy: 0.6891 - val_loss: 0.5847 - val_accuracy: 0.7000\n",
            "Epoch 56/200\n",
            "4/4 [==============================] - 0s 8ms/step - loss: 0.6076 - accuracy: 0.6891 - val_loss: 0.5796 - val_accuracy: 0.7000\n",
            "Epoch 57/200\n",
            "4/4 [==============================] - 0s 9ms/step - loss: 0.6028 - accuracy: 0.6891 - val_loss: 0.5745 - val_accuracy: 0.7000\n",
            "Epoch 58/200\n",
            "4/4 [==============================] - 0s 10ms/step - loss: 0.5982 - accuracy: 0.7227 - val_loss: 0.5694 - val_accuracy: 0.7333\n",
            "Epoch 59/200\n",
            "4/4 [==============================] - 0s 8ms/step - loss: 0.5934 - accuracy: 0.7563 - val_loss: 0.5646 - val_accuracy: 0.7333\n",
            "Epoch 60/200\n",
            "4/4 [==============================] - 0s 9ms/step - loss: 0.5888 - accuracy: 0.7647 - val_loss: 0.5598 - val_accuracy: 0.7333\n",
            "Epoch 61/200\n",
            "4/4 [==============================] - 0s 9ms/step - loss: 0.5843 - accuracy: 0.7983 - val_loss: 0.5552 - val_accuracy: 0.7667\n",
            "Epoch 62/200\n",
            "4/4 [==============================] - 0s 9ms/step - loss: 0.5800 - accuracy: 0.7983 - val_loss: 0.5507 - val_accuracy: 0.7333\n",
            "Epoch 63/200\n",
            "4/4 [==============================] - 0s 9ms/step - loss: 0.5756 - accuracy: 0.7983 - val_loss: 0.5462 - val_accuracy: 0.7667\n",
            "Epoch 64/200\n",
            "4/4 [==============================] - 0s 8ms/step - loss: 0.5713 - accuracy: 0.7983 - val_loss: 0.5419 - val_accuracy: 0.7667\n",
            "Epoch 65/200\n",
            "4/4 [==============================] - 0s 8ms/step - loss: 0.5671 - accuracy: 0.7983 - val_loss: 0.5378 - val_accuracy: 0.7667\n",
            "Epoch 66/200\n",
            "4/4 [==============================] - 0s 8ms/step - loss: 0.5631 - accuracy: 0.7983 - val_loss: 0.5339 - val_accuracy: 0.7333\n",
            "Epoch 67/200\n",
            "4/4 [==============================] - 0s 8ms/step - loss: 0.5594 - accuracy: 0.7731 - val_loss: 0.5301 - val_accuracy: 0.7333\n",
            "Epoch 68/200\n",
            "4/4 [==============================] - 0s 9ms/step - loss: 0.5556 - accuracy: 0.7983 - val_loss: 0.5258 - val_accuracy: 0.8000\n",
            "Epoch 69/200\n",
            "4/4 [==============================] - 0s 9ms/step - loss: 0.5513 - accuracy: 0.8067 - val_loss: 0.5220 - val_accuracy: 0.8000\n",
            "Epoch 70/200\n",
            "4/4 [==============================] - 0s 8ms/step - loss: 0.5475 - accuracy: 0.8067 - val_loss: 0.5182 - val_accuracy: 0.8000\n",
            "Epoch 71/200\n",
            "4/4 [==============================] - 0s 9ms/step - loss: 0.5439 - accuracy: 0.8067 - val_loss: 0.5143 - val_accuracy: 0.8000\n",
            "Epoch 72/200\n",
            "4/4 [==============================] - 0s 9ms/step - loss: 0.5402 - accuracy: 0.8067 - val_loss: 0.5105 - val_accuracy: 0.8000\n",
            "Epoch 73/200\n",
            "4/4 [==============================] - 0s 12ms/step - loss: 0.5369 - accuracy: 0.8067 - val_loss: 0.5071 - val_accuracy: 0.8000\n",
            "Epoch 74/200\n",
            "4/4 [==============================] - 0s 10ms/step - loss: 0.5332 - accuracy: 0.8067 - val_loss: 0.5034 - val_accuracy: 0.8000\n",
            "Epoch 75/200\n",
            "4/4 [==============================] - 0s 9ms/step - loss: 0.5298 - accuracy: 0.8235 - val_loss: 0.4998 - val_accuracy: 0.8000\n",
            "Epoch 76/200\n",
            "4/4 [==============================] - 0s 8ms/step - loss: 0.5263 - accuracy: 0.8235 - val_loss: 0.4964 - val_accuracy: 0.8000\n",
            "Epoch 77/200\n",
            "4/4 [==============================] - 0s 10ms/step - loss: 0.5230 - accuracy: 0.8235 - val_loss: 0.4931 - val_accuracy: 0.8000\n",
            "Epoch 78/200\n",
            "4/4 [==============================] - 0s 8ms/step - loss: 0.5198 - accuracy: 0.8235 - val_loss: 0.4898 - val_accuracy: 0.8333\n",
            "Epoch 79/200\n",
            "4/4 [==============================] - 0s 8ms/step - loss: 0.5167 - accuracy: 0.8319 - val_loss: 0.4867 - val_accuracy: 0.8333\n",
            "Epoch 80/200\n",
            "4/4 [==============================] - 0s 10ms/step - loss: 0.5135 - accuracy: 0.8319 - val_loss: 0.4838 - val_accuracy: 0.8000\n",
            "Epoch 81/200\n",
            "4/4 [==============================] - 0s 8ms/step - loss: 0.5106 - accuracy: 0.8235 - val_loss: 0.4811 - val_accuracy: 0.8000\n",
            "Epoch 82/200\n",
            "4/4 [==============================] - 0s 9ms/step - loss: 0.5075 - accuracy: 0.8235 - val_loss: 0.4779 - val_accuracy: 0.8000\n",
            "Epoch 83/200\n",
            "4/4 [==============================] - 0s 9ms/step - loss: 0.5044 - accuracy: 0.8235 - val_loss: 0.4750 - val_accuracy: 0.8000\n",
            "Epoch 84/200\n",
            "4/4 [==============================] - 0s 9ms/step - loss: 0.5017 - accuracy: 0.8403 - val_loss: 0.4720 - val_accuracy: 0.8333\n",
            "Epoch 85/200\n",
            "4/4 [==============================] - 0s 9ms/step - loss: 0.4987 - accuracy: 0.8487 - val_loss: 0.4692 - val_accuracy: 0.8667\n",
            "Epoch 86/200\n",
            "4/4 [==============================] - 0s 10ms/step - loss: 0.4957 - accuracy: 0.8487 - val_loss: 0.4665 - val_accuracy: 0.8667\n",
            "Epoch 87/200\n",
            "4/4 [==============================] - 0s 9ms/step - loss: 0.4932 - accuracy: 0.8403 - val_loss: 0.4639 - val_accuracy: 0.8333\n",
            "Epoch 88/200\n",
            "4/4 [==============================] - 0s 9ms/step - loss: 0.4903 - accuracy: 0.8487 - val_loss: 0.4609 - val_accuracy: 0.8667\n",
            "Epoch 89/200\n",
            "4/4 [==============================] - 0s 10ms/step - loss: 0.4875 - accuracy: 0.8655 - val_loss: 0.4580 - val_accuracy: 0.8667\n",
            "Epoch 90/200\n",
            "4/4 [==============================] - 0s 13ms/step - loss: 0.4848 - accuracy: 0.8655 - val_loss: 0.4554 - val_accuracy: 0.8667\n",
            "Epoch 91/200\n",
            "4/4 [==============================] - 0s 11ms/step - loss: 0.4823 - accuracy: 0.8655 - val_loss: 0.4528 - val_accuracy: 0.8667\n",
            "Epoch 92/200\n",
            "4/4 [==============================] - 0s 9ms/step - loss: 0.4795 - accuracy: 0.8824 - val_loss: 0.4504 - val_accuracy: 0.8667\n",
            "Epoch 93/200\n",
            "4/4 [==============================] - 0s 9ms/step - loss: 0.4775 - accuracy: 0.8655 - val_loss: 0.4481 - val_accuracy: 0.8667\n",
            "Epoch 94/200\n",
            "4/4 [==============================] - 0s 9ms/step - loss: 0.4747 - accuracy: 0.8655 - val_loss: 0.4453 - val_accuracy: 0.9000\n",
            "Epoch 95/200\n",
            "4/4 [==============================] - 0s 9ms/step - loss: 0.4719 - accuracy: 0.8908 - val_loss: 0.4428 - val_accuracy: 0.9000\n",
            "Epoch 96/200\n",
            "4/4 [==============================] - 0s 8ms/step - loss: 0.4695 - accuracy: 0.8908 - val_loss: 0.4404 - val_accuracy: 0.9000\n",
            "Epoch 97/200\n",
            "4/4 [==============================] - 0s 8ms/step - loss: 0.4672 - accuracy: 0.8908 - val_loss: 0.4380 - val_accuracy: 0.9000\n",
            "Epoch 98/200\n",
            "4/4 [==============================] - 0s 8ms/step - loss: 0.4646 - accuracy: 0.8908 - val_loss: 0.4355 - val_accuracy: 0.9333\n",
            "Epoch 99/200\n",
            "4/4 [==============================] - 0s 10ms/step - loss: 0.4623 - accuracy: 0.9076 - val_loss: 0.4330 - val_accuracy: 0.9333\n",
            "Epoch 100/200\n",
            "4/4 [==============================] - 0s 8ms/step - loss: 0.4600 - accuracy: 0.9076 - val_loss: 0.4306 - val_accuracy: 0.9333\n",
            "Epoch 101/200\n",
            "4/4 [==============================] - 0s 8ms/step - loss: 0.4576 - accuracy: 0.9076 - val_loss: 0.4284 - val_accuracy: 0.9333\n",
            "Epoch 102/200\n",
            "4/4 [==============================] - 0s 9ms/step - loss: 0.4554 - accuracy: 0.9076 - val_loss: 0.4262 - val_accuracy: 0.9333\n",
            "Epoch 103/200\n",
            "4/4 [==============================] - 0s 9ms/step - loss: 0.4531 - accuracy: 0.9076 - val_loss: 0.4241 - val_accuracy: 0.9333\n",
            "Epoch 104/200\n",
            "4/4 [==============================] - 0s 9ms/step - loss: 0.4507 - accuracy: 0.9160 - val_loss: 0.4217 - val_accuracy: 0.9333\n",
            "Epoch 105/200\n",
            "4/4 [==============================] - 0s 8ms/step - loss: 0.4485 - accuracy: 0.9244 - val_loss: 0.4194 - val_accuracy: 0.9333\n",
            "Epoch 106/200\n",
            "4/4 [==============================] - 0s 9ms/step - loss: 0.4463 - accuracy: 0.9412 - val_loss: 0.4173 - val_accuracy: 0.9667\n",
            "Epoch 107/200\n",
            "4/4 [==============================] - 0s 12ms/step - loss: 0.4441 - accuracy: 0.9328 - val_loss: 0.4154 - val_accuracy: 0.9333\n",
            "Epoch 108/200\n",
            "4/4 [==============================] - 0s 10ms/step - loss: 0.4419 - accuracy: 0.9160 - val_loss: 0.4134 - val_accuracy: 0.9333\n",
            "Epoch 109/200\n",
            "4/4 [==============================] - 0s 11ms/step - loss: 0.4398 - accuracy: 0.8992 - val_loss: 0.4116 - val_accuracy: 0.9333\n",
            "Epoch 110/200\n",
            "4/4 [==============================] - 0s 10ms/step - loss: 0.4378 - accuracy: 0.8992 - val_loss: 0.4098 - val_accuracy: 0.9333\n",
            "Epoch 111/200\n",
            "4/4 [==============================] - 0s 9ms/step - loss: 0.4354 - accuracy: 0.9076 - val_loss: 0.4075 - val_accuracy: 0.9333\n",
            "Epoch 112/200\n",
            "4/4 [==============================] - 0s 10ms/step - loss: 0.4333 - accuracy: 0.9244 - val_loss: 0.4054 - val_accuracy: 0.9667\n",
            "Epoch 113/200\n",
            "4/4 [==============================] - 0s 10ms/step - loss: 0.4312 - accuracy: 0.9412 - val_loss: 0.4032 - val_accuracy: 0.9667\n",
            "Epoch 114/200\n",
            "4/4 [==============================] - 0s 9ms/step - loss: 0.4291 - accuracy: 0.9412 - val_loss: 0.4012 - val_accuracy: 0.9667\n",
            "Epoch 115/200\n",
            "4/4 [==============================] - 0s 11ms/step - loss: 0.4271 - accuracy: 0.9412 - val_loss: 0.3991 - val_accuracy: 0.9667\n",
            "Epoch 116/200\n",
            "4/4 [==============================] - 0s 9ms/step - loss: 0.4254 - accuracy: 0.9412 - val_loss: 0.3972 - val_accuracy: 0.9667\n",
            "Epoch 117/200\n",
            "4/4 [==============================] - 0s 9ms/step - loss: 0.4231 - accuracy: 0.9496 - val_loss: 0.3950 - val_accuracy: 0.9667\n",
            "Epoch 118/200\n",
            "4/4 [==============================] - 0s 10ms/step - loss: 0.4211 - accuracy: 0.9580 - val_loss: 0.3931 - val_accuracy: 0.9667\n",
            "Epoch 119/200\n",
            "4/4 [==============================] - 0s 9ms/step - loss: 0.4189 - accuracy: 0.9580 - val_loss: 0.3911 - val_accuracy: 0.9667\n",
            "Epoch 120/200\n",
            "4/4 [==============================] - 0s 10ms/step - loss: 0.4172 - accuracy: 0.9580 - val_loss: 0.3892 - val_accuracy: 0.9667\n",
            "Epoch 121/200\n",
            "4/4 [==============================] - 0s 9ms/step - loss: 0.4150 - accuracy: 0.9580 - val_loss: 0.3873 - val_accuracy: 0.9667\n",
            "Epoch 122/200\n",
            "4/4 [==============================] - 0s 12ms/step - loss: 0.4132 - accuracy: 0.9580 - val_loss: 0.3854 - val_accuracy: 0.9667\n",
            "Epoch 123/200\n",
            "4/4 [==============================] - 0s 11ms/step - loss: 0.4111 - accuracy: 0.9580 - val_loss: 0.3835 - val_accuracy: 0.9667\n",
            "Epoch 124/200\n",
            "4/4 [==============================] - 0s 11ms/step - loss: 0.4091 - accuracy: 0.9580 - val_loss: 0.3819 - val_accuracy: 0.9667\n",
            "Epoch 125/200\n",
            "4/4 [==============================] - 0s 13ms/step - loss: 0.4074 - accuracy: 0.9496 - val_loss: 0.3804 - val_accuracy: 0.9667\n",
            "Epoch 126/200\n",
            "4/4 [==============================] - 0s 9ms/step - loss: 0.4059 - accuracy: 0.9496 - val_loss: 0.3789 - val_accuracy: 0.9667\n",
            "Epoch 127/200\n",
            "4/4 [==============================] - 0s 8ms/step - loss: 0.4035 - accuracy: 0.9496 - val_loss: 0.3768 - val_accuracy: 0.9667\n",
            "Epoch 128/200\n",
            "4/4 [==============================] - 0s 9ms/step - loss: 0.4014 - accuracy: 0.9496 - val_loss: 0.3748 - val_accuracy: 0.9667\n",
            "Epoch 129/200\n",
            "4/4 [==============================] - 0s 12ms/step - loss: 0.3998 - accuracy: 0.9496 - val_loss: 0.3728 - val_accuracy: 0.9667\n",
            "Epoch 130/200\n",
            "4/4 [==============================] - 0s 8ms/step - loss: 0.3978 - accuracy: 0.9496 - val_loss: 0.3710 - val_accuracy: 0.9667\n",
            "Epoch 131/200\n",
            "4/4 [==============================] - 0s 9ms/step - loss: 0.3958 - accuracy: 0.9496 - val_loss: 0.3692 - val_accuracy: 0.9667\n",
            "Epoch 132/200\n",
            "4/4 [==============================] - 0s 8ms/step - loss: 0.3941 - accuracy: 0.9496 - val_loss: 0.3674 - val_accuracy: 0.9667\n",
            "Epoch 133/200\n",
            "4/4 [==============================] - 0s 9ms/step - loss: 0.3921 - accuracy: 0.9496 - val_loss: 0.3656 - val_accuracy: 0.9667\n",
            "Epoch 134/200\n",
            "4/4 [==============================] - 0s 8ms/step - loss: 0.3902 - accuracy: 0.9496 - val_loss: 0.3639 - val_accuracy: 0.9667\n",
            "Epoch 135/200\n",
            "4/4 [==============================] - 0s 9ms/step - loss: 0.3885 - accuracy: 0.9496 - val_loss: 0.3621 - val_accuracy: 0.9667\n",
            "Epoch 136/200\n",
            "4/4 [==============================] - 0s 9ms/step - loss: 0.3865 - accuracy: 0.9496 - val_loss: 0.3604 - val_accuracy: 0.9667\n",
            "Epoch 137/200\n",
            "4/4 [==============================] - 0s 8ms/step - loss: 0.3846 - accuracy: 0.9496 - val_loss: 0.3587 - val_accuracy: 0.9667\n",
            "Epoch 138/200\n",
            "4/4 [==============================] - 0s 11ms/step - loss: 0.3832 - accuracy: 0.9496 - val_loss: 0.3570 - val_accuracy: 0.9667\n",
            "Epoch 139/200\n",
            "4/4 [==============================] - 0s 11ms/step - loss: 0.3814 - accuracy: 0.9496 - val_loss: 0.3557 - val_accuracy: 0.9667\n",
            "Epoch 140/200\n",
            "4/4 [==============================] - 0s 10ms/step - loss: 0.3794 - accuracy: 0.9496 - val_loss: 0.3542 - val_accuracy: 0.9667\n",
            "Epoch 141/200\n",
            "4/4 [==============================] - 0s 14ms/step - loss: 0.3777 - accuracy: 0.9496 - val_loss: 0.3525 - val_accuracy: 0.9667\n",
            "Epoch 142/200\n",
            "4/4 [==============================] - 0s 11ms/step - loss: 0.3758 - accuracy: 0.9496 - val_loss: 0.3508 - val_accuracy: 0.9667\n",
            "Epoch 143/200\n",
            "4/4 [==============================] - 0s 10ms/step - loss: 0.3739 - accuracy: 0.9496 - val_loss: 0.3489 - val_accuracy: 0.9667\n",
            "Epoch 144/200\n",
            "4/4 [==============================] - 0s 10ms/step - loss: 0.3726 - accuracy: 0.9496 - val_loss: 0.3469 - val_accuracy: 1.0000\n",
            "Epoch 145/200\n",
            "4/4 [==============================] - 0s 10ms/step - loss: 0.3704 - accuracy: 0.9496 - val_loss: 0.3452 - val_accuracy: 1.0000\n",
            "Epoch 146/200\n",
            "4/4 [==============================] - 0s 15ms/step - loss: 0.3689 - accuracy: 0.9496 - val_loss: 0.3436 - val_accuracy: 1.0000\n",
            "Epoch 147/200\n",
            "4/4 [==============================] - 0s 10ms/step - loss: 0.3669 - accuracy: 0.9496 - val_loss: 0.3418 - val_accuracy: 1.0000\n",
            "Epoch 148/200\n",
            "4/4 [==============================] - 0s 9ms/step - loss: 0.3653 - accuracy: 0.9496 - val_loss: 0.3399 - val_accuracy: 1.0000\n",
            "Epoch 149/200\n",
            "4/4 [==============================] - 0s 9ms/step - loss: 0.3634 - accuracy: 0.9496 - val_loss: 0.3382 - val_accuracy: 1.0000\n",
            "Epoch 150/200\n",
            "4/4 [==============================] - 0s 9ms/step - loss: 0.3617 - accuracy: 0.9496 - val_loss: 0.3364 - val_accuracy: 1.0000\n",
            "Epoch 151/200\n",
            "4/4 [==============================] - 0s 9ms/step - loss: 0.3602 - accuracy: 0.9496 - val_loss: 0.3348 - val_accuracy: 1.0000\n",
            "Epoch 152/200\n",
            "4/4 [==============================] - 0s 10ms/step - loss: 0.3583 - accuracy: 0.9580 - val_loss: 0.3330 - val_accuracy: 1.0000\n",
            "Epoch 153/200\n",
            "4/4 [==============================] - 0s 10ms/step - loss: 0.3568 - accuracy: 0.9580 - val_loss: 0.3314 - val_accuracy: 1.0000\n",
            "Epoch 154/200\n",
            "4/4 [==============================] - 0s 9ms/step - loss: 0.3552 - accuracy: 0.9580 - val_loss: 0.3297 - val_accuracy: 1.0000\n",
            "Epoch 155/200\n",
            "4/4 [==============================] - 0s 12ms/step - loss: 0.3534 - accuracy: 0.9580 - val_loss: 0.3281 - val_accuracy: 1.0000\n",
            "Epoch 156/200\n",
            "4/4 [==============================] - 0s 9ms/step - loss: 0.3517 - accuracy: 0.9580 - val_loss: 0.3264 - val_accuracy: 1.0000\n",
            "Epoch 157/200\n",
            "4/4 [==============================] - 0s 14ms/step - loss: 0.3504 - accuracy: 0.9496 - val_loss: 0.3250 - val_accuracy: 1.0000\n",
            "Epoch 158/200\n",
            "4/4 [==============================] - 0s 9ms/step - loss: 0.3484 - accuracy: 0.9496 - val_loss: 0.3235 - val_accuracy: 1.0000\n",
            "Epoch 159/200\n",
            "4/4 [==============================] - 0s 8ms/step - loss: 0.3465 - accuracy: 0.9496 - val_loss: 0.3218 - val_accuracy: 1.0000\n",
            "Epoch 160/200\n",
            "4/4 [==============================] - 0s 10ms/step - loss: 0.3449 - accuracy: 0.9580 - val_loss: 0.3202 - val_accuracy: 1.0000\n",
            "Epoch 161/200\n",
            "4/4 [==============================] - 0s 10ms/step - loss: 0.3434 - accuracy: 0.9580 - val_loss: 0.3185 - val_accuracy: 1.0000\n",
            "Epoch 162/200\n",
            "4/4 [==============================] - 0s 9ms/step - loss: 0.3420 - accuracy: 0.9664 - val_loss: 0.3169 - val_accuracy: 1.0000\n",
            "Epoch 163/200\n",
            "4/4 [==============================] - 0s 11ms/step - loss: 0.3405 - accuracy: 0.9664 - val_loss: 0.3154 - val_accuracy: 1.0000\n",
            "Epoch 164/200\n",
            "4/4 [==============================] - 0s 9ms/step - loss: 0.3387 - accuracy: 0.9580 - val_loss: 0.3139 - val_accuracy: 1.0000\n",
            "Epoch 165/200\n",
            "4/4 [==============================] - 0s 10ms/step - loss: 0.3371 - accuracy: 0.9580 - val_loss: 0.3123 - val_accuracy: 1.0000\n",
            "Epoch 166/200\n",
            "4/4 [==============================] - 0s 8ms/step - loss: 0.3354 - accuracy: 0.9664 - val_loss: 0.3106 - val_accuracy: 1.0000\n",
            "Epoch 167/200\n",
            "4/4 [==============================] - 0s 9ms/step - loss: 0.3337 - accuracy: 0.9664 - val_loss: 0.3090 - val_accuracy: 1.0000\n",
            "Epoch 168/200\n",
            "4/4 [==============================] - 0s 9ms/step - loss: 0.3322 - accuracy: 0.9664 - val_loss: 0.3075 - val_accuracy: 1.0000\n",
            "Epoch 169/200\n",
            "4/4 [==============================] - 0s 9ms/step - loss: 0.3307 - accuracy: 0.9664 - val_loss: 0.3062 - val_accuracy: 1.0000\n",
            "Epoch 170/200\n",
            "4/4 [==============================] - 0s 10ms/step - loss: 0.3291 - accuracy: 0.9496 - val_loss: 0.3047 - val_accuracy: 1.0000\n",
            "Epoch 171/200\n",
            "4/4 [==============================] - 0s 9ms/step - loss: 0.3274 - accuracy: 0.9580 - val_loss: 0.3030 - val_accuracy: 1.0000\n",
            "Epoch 172/200\n",
            "4/4 [==============================] - 0s 8ms/step - loss: 0.3258 - accuracy: 0.9664 - val_loss: 0.3014 - val_accuracy: 1.0000\n",
            "Epoch 173/200\n",
            "4/4 [==============================] - 0s 13ms/step - loss: 0.3243 - accuracy: 0.9664 - val_loss: 0.2998 - val_accuracy: 1.0000\n",
            "Epoch 174/200\n",
            "4/4 [==============================] - 0s 9ms/step - loss: 0.3228 - accuracy: 0.9664 - val_loss: 0.2983 - val_accuracy: 1.0000\n",
            "Epoch 175/200\n",
            "4/4 [==============================] - 0s 9ms/step - loss: 0.3213 - accuracy: 0.9664 - val_loss: 0.2969 - val_accuracy: 1.0000\n",
            "Epoch 176/200\n",
            "4/4 [==============================] - 0s 10ms/step - loss: 0.3199 - accuracy: 0.9664 - val_loss: 0.2955 - val_accuracy: 1.0000\n",
            "Epoch 177/200\n",
            "4/4 [==============================] - 0s 10ms/step - loss: 0.3181 - accuracy: 0.9664 - val_loss: 0.2939 - val_accuracy: 1.0000\n",
            "Epoch 178/200\n",
            "4/4 [==============================] - 0s 9ms/step - loss: 0.3165 - accuracy: 0.9664 - val_loss: 0.2924 - val_accuracy: 1.0000\n",
            "Epoch 179/200\n",
            "4/4 [==============================] - 0s 9ms/step - loss: 0.3150 - accuracy: 0.9664 - val_loss: 0.2908 - val_accuracy: 1.0000\n",
            "Epoch 180/200\n",
            "4/4 [==============================] - 0s 9ms/step - loss: 0.3138 - accuracy: 0.9664 - val_loss: 0.2892 - val_accuracy: 1.0000\n",
            "Epoch 181/200\n",
            "4/4 [==============================] - 0s 10ms/step - loss: 0.3122 - accuracy: 0.9664 - val_loss: 0.2879 - val_accuracy: 1.0000\n",
            "Epoch 182/200\n",
            "4/4 [==============================] - 0s 9ms/step - loss: 0.3104 - accuracy: 0.9664 - val_loss: 0.2864 - val_accuracy: 1.0000\n",
            "Epoch 183/200\n",
            "4/4 [==============================] - 0s 8ms/step - loss: 0.3093 - accuracy: 0.9664 - val_loss: 0.2851 - val_accuracy: 1.0000\n",
            "Epoch 184/200\n",
            "4/4 [==============================] - 0s 10ms/step - loss: 0.3074 - accuracy: 0.9664 - val_loss: 0.2835 - val_accuracy: 1.0000\n",
            "Epoch 185/200\n",
            "4/4 [==============================] - 0s 10ms/step - loss: 0.3062 - accuracy: 0.9664 - val_loss: 0.2819 - val_accuracy: 1.0000\n",
            "Epoch 186/200\n",
            "4/4 [==============================] - 0s 11ms/step - loss: 0.3047 - accuracy: 0.9664 - val_loss: 0.2805 - val_accuracy: 1.0000\n",
            "Epoch 187/200\n",
            "4/4 [==============================] - 0s 9ms/step - loss: 0.3031 - accuracy: 0.9664 - val_loss: 0.2790 - val_accuracy: 1.0000\n",
            "Epoch 188/200\n",
            "4/4 [==============================] - 0s 10ms/step - loss: 0.3016 - accuracy: 0.9664 - val_loss: 0.2776 - val_accuracy: 1.0000\n",
            "Epoch 189/200\n",
            "4/4 [==============================] - 0s 10ms/step - loss: 0.3002 - accuracy: 0.9664 - val_loss: 0.2764 - val_accuracy: 1.0000\n",
            "Epoch 190/200\n",
            "4/4 [==============================] - 0s 11ms/step - loss: 0.2989 - accuracy: 0.9664 - val_loss: 0.2751 - val_accuracy: 1.0000\n",
            "Epoch 191/200\n",
            "4/4 [==============================] - 0s 11ms/step - loss: 0.2973 - accuracy: 0.9664 - val_loss: 0.2736 - val_accuracy: 1.0000\n",
            "Epoch 192/200\n",
            "4/4 [==============================] - 0s 9ms/step - loss: 0.2963 - accuracy: 0.9664 - val_loss: 0.2724 - val_accuracy: 1.0000\n",
            "Epoch 193/200\n",
            "4/4 [==============================] - 0s 9ms/step - loss: 0.2945 - accuracy: 0.9664 - val_loss: 0.2708 - val_accuracy: 1.0000\n",
            "Epoch 194/200\n",
            "4/4 [==============================] - 0s 11ms/step - loss: 0.2931 - accuracy: 0.9664 - val_loss: 0.2693 - val_accuracy: 1.0000\n",
            "Epoch 195/200\n",
            "4/4 [==============================] - 0s 11ms/step - loss: 0.2918 - accuracy: 0.9664 - val_loss: 0.2680 - val_accuracy: 1.0000\n",
            "Epoch 196/200\n",
            "4/4 [==============================] - 0s 9ms/step - loss: 0.2902 - accuracy: 0.9664 - val_loss: 0.2665 - val_accuracy: 1.0000\n",
            "Epoch 197/200\n",
            "4/4 [==============================] - 0s 11ms/step - loss: 0.2891 - accuracy: 0.9664 - val_loss: 0.2650 - val_accuracy: 1.0000\n",
            "Epoch 198/200\n",
            "4/4 [==============================] - 0s 9ms/step - loss: 0.2875 - accuracy: 0.9664 - val_loss: 0.2637 - val_accuracy: 1.0000\n",
            "Epoch 199/200\n",
            "4/4 [==============================] - 0s 11ms/step - loss: 0.2860 - accuracy: 0.9664 - val_loss: 0.2624 - val_accuracy: 1.0000\n",
            "Epoch 200/200\n",
            "4/4 [==============================] - 0s 9ms/step - loss: 0.2850 - accuracy: 0.9664 - val_loss: 0.2613 - val_accuracy: 1.0000\n"
          ]
        }
      ]
    },
    {
      "cell_type": "code",
      "metadata": {
        "id": "AK6hnj-maSzS",
        "colab": {
          "base_uri": "https://localhost:8080/",
          "height": 205
        },
        "outputId": "e7819e2d-e3c7-41fc-fd00-1792eeb46047"
      },
      "source": [
        "res=pd.DataFrame(h1.history)\n",
        "res['Epochs']=range(1,201)\n",
        "res.tail()"
      ],
      "execution_count": null,
      "outputs": [
        {
          "output_type": "execute_result",
          "data": {
            "text/html": [
              "<div>\n",
              "<style scoped>\n",
              "    .dataframe tbody tr th:only-of-type {\n",
              "        vertical-align: middle;\n",
              "    }\n",
              "\n",
              "    .dataframe tbody tr th {\n",
              "        vertical-align: top;\n",
              "    }\n",
              "\n",
              "    .dataframe thead th {\n",
              "        text-align: right;\n",
              "    }\n",
              "</style>\n",
              "<table border=\"1\" class=\"dataframe\">\n",
              "  <thead>\n",
              "    <tr style=\"text-align: right;\">\n",
              "      <th></th>\n",
              "      <th>loss</th>\n",
              "      <th>accuracy</th>\n",
              "      <th>val_loss</th>\n",
              "      <th>val_accuracy</th>\n",
              "      <th>Epochs</th>\n",
              "    </tr>\n",
              "  </thead>\n",
              "  <tbody>\n",
              "    <tr>\n",
              "      <th>195</th>\n",
              "      <td>0.290224</td>\n",
              "      <td>0.966387</td>\n",
              "      <td>0.266462</td>\n",
              "      <td>1.0</td>\n",
              "      <td>196</td>\n",
              "    </tr>\n",
              "    <tr>\n",
              "      <th>196</th>\n",
              "      <td>0.289122</td>\n",
              "      <td>0.966387</td>\n",
              "      <td>0.265033</td>\n",
              "      <td>1.0</td>\n",
              "      <td>197</td>\n",
              "    </tr>\n",
              "    <tr>\n",
              "      <th>197</th>\n",
              "      <td>0.287548</td>\n",
              "      <td>0.966387</td>\n",
              "      <td>0.263673</td>\n",
              "      <td>1.0</td>\n",
              "      <td>198</td>\n",
              "    </tr>\n",
              "    <tr>\n",
              "      <th>198</th>\n",
              "      <td>0.285973</td>\n",
              "      <td>0.966387</td>\n",
              "      <td>0.262429</td>\n",
              "      <td>1.0</td>\n",
              "      <td>199</td>\n",
              "    </tr>\n",
              "    <tr>\n",
              "      <th>199</th>\n",
              "      <td>0.285043</td>\n",
              "      <td>0.966387</td>\n",
              "      <td>0.261322</td>\n",
              "      <td>1.0</td>\n",
              "      <td>200</td>\n",
              "    </tr>\n",
              "  </tbody>\n",
              "</table>\n",
              "</div>"
            ],
            "text/plain": [
              "         loss  accuracy  val_loss  val_accuracy  Epochs\n",
              "195  0.290224  0.966387  0.266462           1.0     196\n",
              "196  0.289122  0.966387  0.265033           1.0     197\n",
              "197  0.287548  0.966387  0.263673           1.0     198\n",
              "198  0.285973  0.966387  0.262429           1.0     199\n",
              "199  0.285043  0.966387  0.261322           1.0     200"
            ]
          },
          "metadata": {},
          "execution_count": 137
        }
      ]
    },
    {
      "cell_type": "code",
      "metadata": {
        "id": "UKMLjHsT_VEW",
        "colab": {
          "base_uri": "https://localhost:8080/",
          "height": 281
        },
        "outputId": "3a437990-66c7-446f-d566-8cd0e7d96b0f"
      },
      "source": [
        "plt.plot(res['Epochs'],res['loss'],label='Training loss')\n",
        "plt.plot(res['Epochs'],res['val_loss'],label='Testing loss')\n",
        "plt.title('Training Vs Testing loss')\n",
        "plt.legend()\n",
        "plt.show()"
      ],
      "execution_count": null,
      "outputs": [
        {
          "output_type": "display_data",
          "data": {
            "image/png": "[encoded data removed]",
            "text/plain": [
              "<Figure size 432x288 with 1 Axes>"
            ]
          },
          "metadata": {
            "needs_background": "light"
          }
        }
      ]
    },
    {
      "cell_type": "code",
      "metadata": {
        "id": "REV6r_Rd_w8l",
        "colab": {
          "base_uri": "https://localhost:8080/"
        },
        "outputId": "17b3726e-9f4f-45f9-e5b0-47f30a430d67"
      },
      "source": [
        "y_pred=mod.predict(x_test)\n",
        "y_pred[:5]"
      ],
      "execution_count": null,
      "outputs": [
        {
          "output_type": "execute_result",
          "data": {
            "text/plain": [
              "array([[2.3604942e-02, 5.9096771e-01, 3.8542730e-01],\n",
              "       [2.0552060e-02, 6.2766439e-01, 3.5178348e-01],\n",
              "       [9.9033362e-01, 9.2915613e-03, 3.7487189e-04],\n",
              "       [2.9005997e-03, 3.2853317e-01, 6.6856629e-01],\n",
              "       [1.2635095e-01, 6.9087452e-01, 1.8277451e-01]], dtype=float32)"
            ]
          },
          "metadata": {},
          "execution_count": 139
        }
      ]
    },
    {
      "cell_type": "code",
      "metadata": {
        "id": "jWbceyiC_4Gu",
        "colab": {
          "base_uri": "https://localhost:8080/"
        },
        "outputId": "6e560aa1-7a95-41ff-ce50-9c8ebb94e60f"
      },
      "source": [
        "y_pred=y_pred.argmax(axis=1)\n",
        "y_pred[:5]"
      ],
      "execution_count": null,
      "outputs": [
        {
          "output_type": "execute_result",
          "data": {
            "text/plain": [
              "array([1, 1, 0, 2, 1])"
            ]
          },
          "metadata": {},
          "execution_count": 140
        }
      ]
    },
    {
      "cell_type": "code",
      "metadata": {
        "id": "cFm3i1giAFl5"
      },
      "source": [
        "from sklearn.metrics import confusion_matrix,classification_report"
      ],
      "execution_count": null,
      "outputs": []
    },
    {
      "cell_type": "code",
      "metadata": {
        "id": "r35_9AgcAcIn",
        "colab": {
          "base_uri": "https://localhost:8080/"
        },
        "outputId": "a9e7f386-c8af-48c3-8a20-d7d51625c43b"
      },
      "source": [
        "print(confusion_matrix(y_test,y_pred))\n",
        "print(classification_report(y_test,y_pred))"
      ],
      "execution_count": null,
      "outputs": [
        {
          "output_type": "stream",
          "name": "stdout",
          "text": [
            "[[11  0  0]\n",
            " [ 0 10  0]\n",
            " [ 0  0  9]]\n",
            "              precision    recall  f1-score   support\n",
            "\n",
            "           0       1.00      1.00      1.00        11\n",
            "           1       1.00      1.00      1.00        10\n",
            "           2       1.00      1.00      1.00         9\n",
            "\n",
            "    accuracy                           1.00        30\n",
            "   macro avg       1.00      1.00      1.00        30\n",
            "weighted avg       1.00      1.00      1.00        30\n",
            "\n"
          ]
        }
      ]
    }
  ]
}