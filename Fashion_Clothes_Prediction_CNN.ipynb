{
  "nbformat": 4,
  "nbformat_minor": 0,
  "metadata": {
    "colab": {
      "name": "Fashion Clothes Prediction CNN.ipynb",
      "provenance": []
    },
    "kernelspec": {
      "name": "python3",
      "display_name": "Python 3"
    },
    "language_info": {
      "name": "python"
    }
  },
  "cells": [
    {
      "cell_type": "code",
      "metadata": {
        "id": "TW14lM1GixvF"
      },
      "source": [
        "import numpy as np\n",
        "import pandas as pd\n",
        "import matplotlib.pyplot as plt\n",
        "import tensorflow as tf"
      ],
      "execution_count": null,
      "outputs": []
    },
    {
      "cell_type": "code",
      "metadata": {
        "id": "IH2TbrYOjAdI"
      },
      "source": [
        "from tensorflow.keras import datasets"
      ],
      "execution_count": null,
      "outputs": []
    },
    {
      "cell_type": "code",
      "metadata": {
        "colab": {
          "base_uri": "https://localhost:8080/"
        },
        "id": "i4p6o0MbjLfG",
        "outputId": "32794c5d-2343-429c-a8a8-2fc40d14ae3a"
      },
      "source": [
        "(x_train,y_train),(x_test,y_test)=datasets.fashion_mnist.load_data()"
      ],
      "execution_count": null,
      "outputs": [
        {
          "output_type": "stream",
          "name": "stdout",
          "text": [
            "Downloading data from https://storage.googleapis.com/tensorflow/tf-keras-datasets/train-labels-idx1-ubyte.gz\n",
            "32768/29515 [=================================] - 0s 0us/step\n",
            "40960/29515 [=========================================] - 0s 0us/step\n",
            "Downloading data from https://storage.googleapis.com/tensorflow/tf-keras-datasets/train-images-idx3-ubyte.gz\n",
            "26427392/26421880 [==============================] - 0s 0us/step\n",
            "26435584/26421880 [==============================] - 0s 0us/step\n",
            "Downloading data from https://storage.googleapis.com/tensorflow/tf-keras-datasets/t10k-labels-idx1-ubyte.gz\n",
            "16384/5148 [===============================================================================================] - 0s 0us/step\n",
            "Downloading data from https://storage.googleapis.com/tensorflow/tf-keras-datasets/t10k-images-idx3-ubyte.gz\n",
            "4423680/4422102 [==============================] - 0s 0us/step\n",
            "4431872/4422102 [==============================] - 0s 0us/step\n"
          ]
        }
      ]
    },
    {
      "cell_type": "code",
      "metadata": {
        "colab": {
          "base_uri": "https://localhost:8080/"
        },
        "id": "5OwvaHIrjTlK",
        "outputId": "6d458993-07ed-4b25-c693-e90afd7579ef"
      },
      "source": [
        "print(x_train.shape)\n",
        "print(y_train.shape)\n",
        "print(x_test.shape)\n",
        "print(y_test.shape)"
      ],
      "execution_count": null,
      "outputs": [
        {
          "output_type": "stream",
          "name": "stdout",
          "text": [
            "(60000, 28, 28)\n",
            "(60000,)\n",
            "(10000, 28, 28)\n",
            "(10000,)\n"
          ]
        }
      ]
    },
    {
      "cell_type": "code",
      "metadata": {
        "colab": {
          "base_uri": "https://localhost:8080/"
        },
        "id": "vkMJa7ahjaoS",
        "outputId": "6cde69f1-8309-4659-e96e-67f42575acf5"
      },
      "source": [
        "x_train[0]"
      ],
      "execution_count": null,
      "outputs": [
        {
          "output_type": "execute_result",
          "data": {
            "text/plain": [
              "array([[  0,   0,   0,   0,   0,   0,   0,   0,   0,   0,   0,   0,   0,\n",
              "          0,   0,   0,   0,   0,   0,   0,   0,   0,   0,   0,   0,   0,\n",
              "          0,   0],\n",
              "       [  0,   0,   0,   0,   0,   0,   0,   0,   0,   0,   0,   0,   0,\n",
              "          0,   0,   0,   0,   0,   0,   0,   0,   0,   0,   0,   0,   0,\n",
              "          0,   0],\n",
              "       [  0,   0,   0,   0,   0,   0,   0,   0,   0,   0,   0,   0,   0,\n",
              "          0,   0,   0,   0,   0,   0,   0,   0,   0,   0,   0,   0,   0,\n",
              "          0,   0],\n",
              "       [  0,   0,   0,   0,   0,   0,   0,   0,   0,   0,   0,   0,   1,\n",
              "          0,   0,  13,  73,   0,   0,   1,   4,   0,   0,   0,   0,   1,\n",
              "          1,   0],\n",
              "       [  0,   0,   0,   0,   0,   0,   0,   0,   0,   0,   0,   0,   3,\n",
              "          0,  36, 136, 127,  62,  54,   0,   0,   0,   1,   3,   4,   0,\n",
              "          0,   3],\n",
              "       [  0,   0,   0,   0,   0,   0,   0,   0,   0,   0,   0,   0,   6,\n",
              "          0, 102, 204, 176, 134, 144, 123,  23,   0,   0,   0,   0,  12,\n",
              "         10,   0],\n",
              "       [  0,   0,   0,   0,   0,   0,   0,   0,   0,   0,   0,   0,   0,\n",
              "          0, 155, 236, 207, 178, 107, 156, 161, 109,  64,  23,  77, 130,\n",
              "         72,  15],\n",
              "       [  0,   0,   0,   0,   0,   0,   0,   0,   0,   0,   0,   1,   0,\n",
              "         69, 207, 223, 218, 216, 216, 163, 127, 121, 122, 146, 141,  88,\n",
              "        172,  66],\n",
              "       [  0,   0,   0,   0,   0,   0,   0,   0,   0,   1,   1,   1,   0,\n",
              "        200, 232, 232, 233, 229, 223, 223, 215, 213, 164, 127, 123, 196,\n",
              "        229,   0],\n",
              "       [  0,   0,   0,   0,   0,   0,   0,   0,   0,   0,   0,   0,   0,\n",
              "        183, 225, 216, 223, 228, 235, 227, 224, 222, 224, 221, 223, 245,\n",
              "        173,   0],\n",
              "       [  0,   0,   0,   0,   0,   0,   0,   0,   0,   0,   0,   0,   0,\n",
              "        193, 228, 218, 213, 198, 180, 212, 210, 211, 213, 223, 220, 243,\n",
              "        202,   0],\n",
              "       [  0,   0,   0,   0,   0,   0,   0,   0,   0,   1,   3,   0,  12,\n",
              "        219, 220, 212, 218, 192, 169, 227, 208, 218, 224, 212, 226, 197,\n",
              "        209,  52],\n",
              "       [  0,   0,   0,   0,   0,   0,   0,   0,   0,   0,   6,   0,  99,\n",
              "        244, 222, 220, 218, 203, 198, 221, 215, 213, 222, 220, 245, 119,\n",
              "        167,  56],\n",
              "       [  0,   0,   0,   0,   0,   0,   0,   0,   0,   4,   0,   0,  55,\n",
              "        236, 228, 230, 228, 240, 232, 213, 218, 223, 234, 217, 217, 209,\n",
              "         92,   0],\n",
              "       [  0,   0,   1,   4,   6,   7,   2,   0,   0,   0,   0,   0, 237,\n",
              "        226, 217, 223, 222, 219, 222, 221, 216, 223, 229, 215, 218, 255,\n",
              "         77,   0],\n",
              "       [  0,   3,   0,   0,   0,   0,   0,   0,   0,  62, 145, 204, 228,\n",
              "        207, 213, 221, 218, 208, 211, 218, 224, 223, 219, 215, 224, 244,\n",
              "        159,   0],\n",
              "       [  0,   0,   0,   0,  18,  44,  82, 107, 189, 228, 220, 222, 217,\n",
              "        226, 200, 205, 211, 230, 224, 234, 176, 188, 250, 248, 233, 238,\n",
              "        215,   0],\n",
              "       [  0,  57, 187, 208, 224, 221, 224, 208, 204, 214, 208, 209, 200,\n",
              "        159, 245, 193, 206, 223, 255, 255, 221, 234, 221, 211, 220, 232,\n",
              "        246,   0],\n",
              "       [  3, 202, 228, 224, 221, 211, 211, 214, 205, 205, 205, 220, 240,\n",
              "         80, 150, 255, 229, 221, 188, 154, 191, 210, 204, 209, 222, 228,\n",
              "        225,   0],\n",
              "       [ 98, 233, 198, 210, 222, 229, 229, 234, 249, 220, 194, 215, 217,\n",
              "        241,  65,  73, 106, 117, 168, 219, 221, 215, 217, 223, 223, 224,\n",
              "        229,  29],\n",
              "       [ 75, 204, 212, 204, 193, 205, 211, 225, 216, 185, 197, 206, 198,\n",
              "        213, 240, 195, 227, 245, 239, 223, 218, 212, 209, 222, 220, 221,\n",
              "        230,  67],\n",
              "       [ 48, 203, 183, 194, 213, 197, 185, 190, 194, 192, 202, 214, 219,\n",
              "        221, 220, 236, 225, 216, 199, 206, 186, 181, 177, 172, 181, 205,\n",
              "        206, 115],\n",
              "       [  0, 122, 219, 193, 179, 171, 183, 196, 204, 210, 213, 207, 211,\n",
              "        210, 200, 196, 194, 191, 195, 191, 198, 192, 176, 156, 167, 177,\n",
              "        210,  92],\n",
              "       [  0,   0,  74, 189, 212, 191, 175, 172, 175, 181, 185, 188, 189,\n",
              "        188, 193, 198, 204, 209, 210, 210, 211, 188, 188, 194, 192, 216,\n",
              "        170,   0],\n",
              "       [  2,   0,   0,   0,  66, 200, 222, 237, 239, 242, 246, 243, 244,\n",
              "        221, 220, 193, 191, 179, 182, 182, 181, 176, 166, 168,  99,  58,\n",
              "          0,   0],\n",
              "       [  0,   0,   0,   0,   0,   0,   0,  40,  61,  44,  72,  41,  35,\n",
              "          0,   0,   0,   0,   0,   0,   0,   0,   0,   0,   0,   0,   0,\n",
              "          0,   0],\n",
              "       [  0,   0,   0,   0,   0,   0,   0,   0,   0,   0,   0,   0,   0,\n",
              "          0,   0,   0,   0,   0,   0,   0,   0,   0,   0,   0,   0,   0,\n",
              "          0,   0],\n",
              "       [  0,   0,   0,   0,   0,   0,   0,   0,   0,   0,   0,   0,   0,\n",
              "          0,   0,   0,   0,   0,   0,   0,   0,   0,   0,   0,   0,   0,\n",
              "          0,   0]], dtype=uint8)"
            ]
          },
          "metadata": {},
          "execution_count": 5
        }
      ]
    },
    {
      "cell_type": "code",
      "metadata": {
        "colab": {
          "base_uri": "https://localhost:8080/",
          "height": 594
        },
        "id": "fFEVhFgfjgqq",
        "outputId": "d314d35c-2c7f-45af-aea2-775256f65882"
      },
      "source": [
        "plt.figure(figsize=(10,10))\n",
        "for i in range(16):\n",
        "  plt.subplot(4,4,i+1)\n",
        "  plt.imshow(x_train[i])\n",
        "  plt.xticks([])\n",
        "  plt.yticks([])\n",
        "  plt.title(y_train[i])"
      ],
      "execution_count": null,
      "outputs": [
        {
          "output_type": "display_data",
          "data": {
            "image/png": "[encoded data removed]",
            "text/plain": [
              "<Figure size 720x720 with 16 Axes>"
            ]
          },
          "metadata": {}
        }
      ]
    },
    {
      "cell_type": "code",
      "metadata": {
        "id": "rBNJ1Znlj0Lb"
      },
      "source": [
        "x_train=x_train/255\n",
        "x_test=x_test/255"
      ],
      "execution_count": null,
      "outputs": []
    },
    {
      "cell_type": "code",
      "metadata": {
        "id": "322iTtBllPpk"
      },
      "source": [
        "x_train=x_train.reshape(60000,28,28,1)\n",
        "x_test=x_test.reshape(10000,28,28,1)"
      ],
      "execution_count": null,
      "outputs": []
    },
    {
      "cell_type": "code",
      "metadata": {
        "id": "bOee4cd1lhJk"
      },
      "source": [
        "from tensorflow.keras.utils import to_categorical"
      ],
      "execution_count": null,
      "outputs": []
    },
    {
      "cell_type": "code",
      "metadata": {
        "id": "aW2OmGeylnI8"
      },
      "source": [
        "y_train=to_categorical(y_train)\n",
        "y_test=to_categorical(y_test)"
      ],
      "execution_count": null,
      "outputs": []
    },
    {
      "cell_type": "code",
      "metadata": {
        "colab": {
          "base_uri": "https://localhost:8080/"
        },
        "id": "KkdjNtdylrfz",
        "outputId": "975526a1-1d10-4f4b-e098-cb17add97eec"
      },
      "source": [
        "print(x_train.shape)\n",
        "print(y_train.shape)\n",
        "print(x_test.shape)\n",
        "print(y_test.shape)"
      ],
      "execution_count": null,
      "outputs": [
        {
          "output_type": "stream",
          "name": "stdout",
          "text": [
            "(60000, 28, 28, 1)\n",
            "(60000, 10)\n",
            "(10000, 28, 28, 1)\n",
            "(10000, 10)\n"
          ]
        }
      ]
    },
    {
      "cell_type": "code",
      "metadata": {
        "id": "VtdFTOGoluOu"
      },
      "source": [
        "from tensorflow.keras.models import Sequential\n",
        "from tensorflow.keras.layers import Conv2D,MaxPooling2D,Flatten,Dense"
      ],
      "execution_count": null,
      "outputs": []
    },
    {
      "cell_type": "code",
      "metadata": {
        "id": "vSdxgZmNl8dO"
      },
      "source": [
        "mod=Sequential()\n",
        "mod.add(Conv2D(128,(3,3),strides=(2,2),activation='relu',input_shape=(28,28,1)))\n",
        "mod.add(MaxPooling2D(pool_size=(2,2)))\n",
        "mod.add(Conv2D(256,(3,3),strides=(2,2),activation='relu',input_shape=(28,28,1)))\n",
        "mod.add(MaxPooling2D(pool_size=(2,2)))\n",
        "mod.add(Flatten())\n",
        "mod.add(Dense(128,activation='relu'))\n",
        "mod.add(Dense(10,activation='softmax'))"
      ],
      "execution_count": null,
      "outputs": []
    },
    {
      "cell_type": "code",
      "metadata": {
        "id": "RVsuH1unmnpx"
      },
      "source": [
        "mod.compile(optimizer='rmsprop',loss='categorical_crossentropy',metrics=['accuracy'])"
      ],
      "execution_count": null,
      "outputs": []
    },
    {
      "cell_type": "code",
      "metadata": {
        "colab": {
          "base_uri": "https://localhost:8080/"
        },
        "id": "ANIASra5m2GU",
        "outputId": "4c710859-5aaa-4adf-ad98-38eee97d1a26"
      },
      "source": [
        "h1=mod.fit(x_train,y_train,epochs=15,validation_data=(x_test,y_test))"
      ],
      "execution_count": null,
      "outputs": [
        {
          "output_type": "stream",
          "name": "stdout",
          "text": [
            "Epoch 1/15\n",
            "1875/1875 [==============================] - 67s 35ms/step - loss: 0.5436 - accuracy: 0.8031 - val_loss: 0.4233 - val_accuracy: 0.8497\n",
            "Epoch 2/15\n",
            "1875/1875 [==============================] - 65s 35ms/step - loss: 0.3745 - accuracy: 0.8623 - val_loss: 0.3684 - val_accuracy: 0.8659\n",
            "Epoch 3/15\n",
            "1875/1875 [==============================] - 64s 34ms/step - loss: 0.3322 - accuracy: 0.8776 - val_loss: 0.3867 - val_accuracy: 0.8611\n",
            "Epoch 4/15\n",
            "1875/1875 [==============================] - 64s 34ms/step - loss: 0.3072 - accuracy: 0.8871 - val_loss: 0.3497 - val_accuracy: 0.8767\n",
            "Epoch 5/15\n",
            "1875/1875 [==============================] - 64s 34ms/step - loss: 0.2936 - accuracy: 0.8926 - val_loss: 0.3690 - val_accuracy: 0.8736\n",
            "Epoch 6/15\n",
            "1875/1875 [==============================] - 64s 34ms/step - loss: 0.2865 - accuracy: 0.8953 - val_loss: 0.4030 - val_accuracy: 0.8668\n",
            "Epoch 7/15\n",
            "1875/1875 [==============================] - 63s 34ms/step - loss: 0.2821 - accuracy: 0.8974 - val_loss: 0.3879 - val_accuracy: 0.8694\n",
            "Epoch 8/15\n",
            "1875/1875 [==============================] - 63s 34ms/step - loss: 0.2816 - accuracy: 0.8972 - val_loss: 0.4582 - val_accuracy: 0.8660\n",
            "Epoch 9/15\n",
            "1875/1875 [==============================] - 64s 34ms/step - loss: 0.2819 - accuracy: 0.8988 - val_loss: 0.4286 - val_accuracy: 0.8792\n",
            "Epoch 10/15\n",
            "1875/1875 [==============================] - 64s 34ms/step - loss: 0.2783 - accuracy: 0.8994 - val_loss: 0.4140 - val_accuracy: 0.8713\n",
            "Epoch 11/15\n",
            "1875/1875 [==============================] - 64s 34ms/step - loss: 0.2830 - accuracy: 0.8986 - val_loss: 0.4284 - val_accuracy: 0.8691\n",
            "Epoch 12/15\n",
            "1875/1875 [==============================] - 63s 34ms/step - loss: 0.2857 - accuracy: 0.8977 - val_loss: 0.4431 - val_accuracy: 0.8769\n",
            "Epoch 13/15\n",
            "1875/1875 [==============================] - 64s 34ms/step - loss: 0.2879 - accuracy: 0.8975 - val_loss: 0.4389 - val_accuracy: 0.8645\n",
            "Epoch 14/15\n",
            "1875/1875 [==============================] - 64s 34ms/step - loss: 0.2924 - accuracy: 0.8963 - val_loss: 0.4191 - val_accuracy: 0.8679\n",
            "Epoch 15/15\n",
            "1875/1875 [==============================] - 64s 34ms/step - loss: 0.2964 - accuracy: 0.8956 - val_loss: 0.5961 - val_accuracy: 0.8597\n"
          ]
        }
      ]
    },
    {
      "cell_type": "code",
      "metadata": {
        "colab": {
          "base_uri": "https://localhost:8080/",
          "height": 205
        },
        "id": "DgngIb1vm_0M",
        "outputId": "74e23707-0ad5-4a22-dd1c-462493ebd12c"
      },
      "source": [
        "res=pd.DataFrame(h1.history)\n",
        "res['Epochs']=h1.epoch\n",
        "res.tail()"
      ],
      "execution_count": null,
      "outputs": [
        {
          "output_type": "execute_result",
          "data": {
            "text/html": [
              "<div>\n",
              "<style scoped>\n",
              "    .dataframe tbody tr th:only-of-type {\n",
              "        vertical-align: middle;\n",
              "    }\n",
              "\n",
              "    .dataframe tbody tr th {\n",
              "        vertical-align: top;\n",
              "    }\n",
              "\n",
              "    .dataframe thead th {\n",
              "        text-align: right;\n",
              "    }\n",
              "</style>\n",
              "<table border=\"1\" class=\"dataframe\">\n",
              "  <thead>\n",
              "    <tr style=\"text-align: right;\">\n",
              "      <th></th>\n",
              "      <th>loss</th>\n",
              "      <th>accuracy</th>\n",
              "      <th>val_loss</th>\n",
              "      <th>val_accuracy</th>\n",
              "      <th>Epochs</th>\n",
              "    </tr>\n",
              "  </thead>\n",
              "  <tbody>\n",
              "    <tr>\n",
              "      <th>10</th>\n",
              "      <td>0.282960</td>\n",
              "      <td>0.898650</td>\n",
              "      <td>0.428419</td>\n",
              "      <td>0.8691</td>\n",
              "      <td>10</td>\n",
              "    </tr>\n",
              "    <tr>\n",
              "      <th>11</th>\n",
              "      <td>0.285688</td>\n",
              "      <td>0.897717</td>\n",
              "      <td>0.443110</td>\n",
              "      <td>0.8769</td>\n",
              "      <td>11</td>\n",
              "    </tr>\n",
              "    <tr>\n",
              "      <th>12</th>\n",
              "      <td>0.287925</td>\n",
              "      <td>0.897533</td>\n",
              "      <td>0.438939</td>\n",
              "      <td>0.8645</td>\n",
              "      <td>12</td>\n",
              "    </tr>\n",
              "    <tr>\n",
              "      <th>13</th>\n",
              "      <td>0.292408</td>\n",
              "      <td>0.896300</td>\n",
              "      <td>0.419071</td>\n",
              "      <td>0.8679</td>\n",
              "      <td>13</td>\n",
              "    </tr>\n",
              "    <tr>\n",
              "      <th>14</th>\n",
              "      <td>0.296360</td>\n",
              "      <td>0.895567</td>\n",
              "      <td>0.596124</td>\n",
              "      <td>0.8597</td>\n",
              "      <td>14</td>\n",
              "    </tr>\n",
              "  </tbody>\n",
              "</table>\n",
              "</div>"
            ],
            "text/plain": [
              "        loss  accuracy  val_loss  val_accuracy  Epochs\n",
              "10  0.282960  0.898650  0.428419        0.8691      10\n",
              "11  0.285688  0.897717  0.443110        0.8769      11\n",
              "12  0.287925  0.897533  0.438939        0.8645      12\n",
              "13  0.292408  0.896300  0.419071        0.8679      13\n",
              "14  0.296360  0.895567  0.596124        0.8597      14"
            ]
          },
          "metadata": {},
          "execution_count": 27
        }
      ]
    },
    {
      "cell_type": "code",
      "metadata": {
        "colab": {
          "base_uri": "https://localhost:8080/",
          "height": 281
        },
        "id": "rvahcod2nPnz",
        "outputId": "842ef351-5fb6-49f3-8a14-cc0cab02fad2"
      },
      "source": [
        "plt.plot(res['Epochs'],res['loss'],label='Training loss')\n",
        "plt.plot(res['Epochs'],res['val_loss'],label='Testing loss')\n",
        "plt.title('Training Vs Testing Loss')\n",
        "plt.legend()\n",
        "plt.show()"
      ],
      "execution_count": null,
      "outputs": [
        {
          "output_type": "display_data",
          "data": {
            "image/png": "[encoded data removed]",
            "text/plain": [
              "<Figure size 432x288 with 1 Axes>"
            ]
          },
          "metadata": {
            "needs_background": "light"
          }
        }
      ]
    },
    {
      "cell_type": "code",
      "metadata": {
        "id": "_wuVIIeongf6"
      },
      "source": [
        "y_pred=mod.predict(x_test)"
      ],
      "execution_count": null,
      "outputs": []
    },
    {
      "cell_type": "code",
      "metadata": {
        "colab": {
          "base_uri": "https://localhost:8080/"
        },
        "id": "XvgQIpjinmvN",
        "outputId": "c503ae7a-887a-4b08-96bf-f6dd332deaa4"
      },
      "source": [
        "y_pred=y_pred.argmax(axis=1)\n",
        "y_pred[:10]"
      ],
      "execution_count": null,
      "outputs": [
        {
          "output_type": "execute_result",
          "data": {
            "text/plain": [
              "array([9, 2, 1, 1, 6, 1, 4, 6, 5, 7])"
            ]
          },
          "metadata": {},
          "execution_count": 31
        }
      ]
    },
    {
      "cell_type": "code",
      "metadata": {
        "colab": {
          "base_uri": "https://localhost:8080/"
        },
        "id": "9XuWYE5_nrlr",
        "outputId": "de9bf6bc-f090-4160-aae1-36b2ec7faef7"
      },
      "source": [
        "y_test1=y_test.argmax(axis=1)\n",
        "y_test1[:10]"
      ],
      "execution_count": null,
      "outputs": [
        {
          "output_type": "execute_result",
          "data": {
            "text/plain": [
              "array([9, 2, 1, 1, 6, 1, 4, 6, 5, 7])"
            ]
          },
          "metadata": {},
          "execution_count": 28
        }
      ]
    },
    {
      "cell_type": "code",
      "metadata": {
        "id": "qm9v1ODfn1ox"
      },
      "source": [
        "from sklearn.metrics import classification_report,confusion_matrix"
      ],
      "execution_count": null,
      "outputs": []
    },
    {
      "cell_type": "code",
      "metadata": {
        "colab": {
          "base_uri": "https://localhost:8080/"
        },
        "id": "6hf2GeNLn8Q-",
        "outputId": "9ed73ee7-f8f0-422e-d2fa-b92b5db30dc8"
      },
      "source": [
        "print(confusion_matrix(y_pred,y_test1))\n",
        "print(classification_report(y_pred,y_test1))"
      ],
      "execution_count": null,
      "outputs": [
        {
          "output_type": "stream",
          "name": "stdout",
          "text": [
            "[[739   1   8  11   0   0  74   0   1   1]\n",
            " [  1 960   1   4   0   0   1   0   1   0]\n",
            " [ 15   1 752  19  46   0  44   0   2   0]\n",
            " [ 23  27  18 899  47   2  33   0   4   0]\n",
            " [  1   1  59  13 711   0  50   0   2   0]\n",
            " [  2   0   0   0   0 946   0  21   4   7]\n",
            " [207   8 158  50 187   0 781   0  11   1]\n",
            " [  0   0   0   0   0  19   0 867   2  17]\n",
            " [ 12   2   4   2   9   2  16   0 969   1]\n",
            " [  0   0   0   2   0  31   1 112   4 973]]\n",
            "              precision    recall  f1-score   support\n",
            "\n",
            "           0       0.74      0.89      0.81       835\n",
            "           1       0.96      0.99      0.98       968\n",
            "           2       0.75      0.86      0.80       879\n",
            "           3       0.90      0.85      0.88      1053\n",
            "           4       0.71      0.85      0.77       837\n",
            "           5       0.95      0.97      0.96       980\n",
            "           6       0.78      0.56      0.65      1403\n",
            "           7       0.87      0.96      0.91       905\n",
            "           8       0.97      0.95      0.96      1017\n",
            "           9       0.97      0.87      0.92      1123\n",
            "\n",
            "    accuracy                           0.86     10000\n",
            "   macro avg       0.86      0.87      0.86     10000\n",
            "weighted avg       0.86      0.86      0.86     10000\n",
            "\n"
          ]
        }
      ]
    }
  ]
}